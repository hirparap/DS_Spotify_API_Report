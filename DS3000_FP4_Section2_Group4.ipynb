{
 "cells": [
  {
   "cell_type": "markdown",
   "metadata": {},
   "source": [
    "<center> <h2> DS 3000 - Spring 2020</h2> </center>\n",
    "<center> <h3> DS Report</h3> </center>\n"
   ]
  },
  {
   "cell_type": "markdown",
   "metadata": {},
   "source": [
    "<center> <h3> Song Popularity Prediction</h3> </center>\n",
    "<center><h4>Chidubem Anemeje, Pavan Hirpara, Genevieve Jawor, Cameron Scoons</h4></center>\n"
   ]
  },
  {
   "cell_type": "markdown",
   "metadata": {},
   "source": [
    "  "
   ]
  },
  {
   "cell_type": "markdown",
   "metadata": {},
   "source": [
    "<hr style=\"height:2px; border:none; color:black; background-color:black;\">"
   ]
  },
  {
   "cell_type": "markdown",
   "metadata": {},
   "source": [
    "#### Executive Summary:\n",
    "\n",
    "For our project, we chose to work with the Spotify API which includes audio features of songs and their popularity on the streaming platform in order to predict the popularity of a song based on its audio features using machine learning models. We found this topic to have a practical application in the world of music as this could aid in release strategies and other marketing aspects.\n",
    "\n",
    "**Method**: Our dataset consisted of 10 feature attributes which were the audio features provided by the Spotify API and the target value being the popularity of the track on the streaming platform. Using the dataset, we tested multiple hypotheses relating the effect of specific audio features on a song’s popularity and trained models to predict the popularity of a song based on the audio features.\n",
    "\n",
    "**Results**: During our hypothesis testing, we found that the data was \n",
    "\n",
    "**Discussion**: In the future, we would like to fine tune our existing models to find better parameters for this specific dataset. Furthermore, exploring neural networks may lead to a greater accuracy in our predictions of popularity"
   ]
  },
  {
   "cell_type": "markdown",
   "metadata": {},
   "source": [
    "<hr style=\"height:2px; border:none; color:black; background-color:black;\">"
   ]
  },
  {
   "cell_type": "markdown",
   "metadata": {},
   "source": [
    "## Outline\n",
    "1. <a href='#1'>INTRODUCTION</a>\n",
    "2. <a href='#2'>METHOD</a>\n",
    "3. <a href='#3'>RESULTS</a>\n",
    "4. <a href='#4'>DISCUSSION</a>"
   ]
  },
  {
   "cell_type": "markdown",
   "metadata": {},
   "source": [
    "<a id=\"1\"></a>\n",
    "<hr style=\"height:2px; border:none; color:black; background-color:black;\">"
   ]
  },
  {
   "cell_type": "markdown",
   "metadata": {},
   "source": [
    "## 1. INTRODUCTION"
   ]
  },
  {
   "cell_type": "markdown",
   "metadata": {},
   "source": [
    "\n",
    "<h4><u>Problem Statement</u></h4>\n",
    "When an artist releases an album, we often forget about the multitudes of unreleased music that was recorded. The problem is that it is impossible for an artist to release every song they record and choosing what songs to release is a hard feat. Artists and record labels usually want to release the songs that will perform best on charts but struggle to ascertain what songs these would be. \n",
    "\n",
    "<h4><u>Significance of the Problem</u></h4>\n",
    "Our project topic is “Song Popularity Prediction.” We would like to tackle the problem by determining the song with the most potential for popularity. By doing this, we could help music labels and artists choose which songs to release, and allow for the highest net profit in a mainly streaming focused music economy. This would be done by analyzing songs based on component features to determine probability of popularity. This could be measured in a number of ways but will be mainly based upon the Spotify popularity feature. We will analyze Spotify features such as acousticness, danceability, etc. which are all provided by the Spotify API. From this analysis it would hopefully be possible to determine what mixture of features of a song make it popular or a “hit” or potential areas to focus on when trying to write popular songs. Some key points to cover would be the different correlations between each feature and how each will impact the popularity.\n",
    "\n",
    "<h4><u>Previous Research</u></h4>\n",
    "\n",
    "Our topic is not an uncommon one, as many projects have focused on song popularity prediction. Yet, there are a myriad of different ways to define popularity, and these standards have definitely changed over time. A similar project at Stanford used not only acoustic features, but also metadata to predict the popularity of a song. Their findings were that the metadata associated with a song (such as year released and genre tags) were more helpful in defining a song as popular or not than acoustic features. This allowed for qualitative and quantitative properties to be collected to determine an overall popularity and created their own popularity method for songs. They created this popularity ranking from their statistical tests and determined that the most influential predictors were artist familiarity, loudness, year and genre track. \n",
    "\n",
    "The other two sources were more like our project, utilizing simliar data extraction and modeling techniques as well as employing the Spotify popularity as gold standard labels in regression. The first source was most similar, using the Spotify API in order to gain data of a track's audio features. Their methodology differed in that they used only top 50 songs, included artist information, and employed a linear regression model. This was pretty successful with a low mean squared error score of 2.67(1). In the second source, the researcher created a Song Popularity Predictor using various models such as Linear Regression, Random Forest Trees, and XG Boost. This reasearcher used the Million Song Dataset and overlap with the Billboard charts to create his dataset and included artist hotness as a feature. This project was able to obtain decent results with a area under the curve score accuracy of 63% with the best model(2). \n",
    "\n",
    "Specifically in our project, we wanted to see if we could predict popularity using just features from the song without artist data and were able to use similar models and data extraction techniques to these projects.\n",
    "\n",
    "1. \n",
    "2. https://www.kaggle.com/sahana16/predicting-popularity-using-spotify-features/data\n",
    "3. https://towardsdatascience.com/song-popularity-predictor-1ef69735e380\n",
    "\n",
    "\n",
    "<h4><u>Questions/Hypotheses</u></h4>\n",
    "\n",
    "**Questions**\n",
    "* What different correlations exist between each feature and how does each impact the potential Spotify popularity? Is there one feature that is especially influential in the prediction?\n",
    "* Is it possible to predict the Spotify popularity solely based on the Spotify features, or are there outlying factors that play into the popularity that will influence the results?\n",
    "* What model will lead to the best accuaracy given our dataset?\n",
    "\n",
    "**Hypotheses**\n",
    "* Higher danceability is associated with higher popularity tracks\n",
    "* Higher tempo is associated with higher popularity tracks\n",
    "* Higher valence is associated with higher popularity tracks\n",
    "* Decision trees, like the Random Forest Tree, will lead to a better accuaracy with our data due to the handling of non linear data by this model"
   ]
  },
  {
   "cell_type": "markdown",
   "metadata": {},
   "source": [
    "<a id=\"2\"></a>\n",
    "<hr style=\"height:2px; border:none; color:black; background-color:black;\">"
   ]
  },
  {
   "cell_type": "markdown",
   "metadata": {},
   "source": [
    "## 2. METHOD"
   ]
  },
  {
   "cell_type": "markdown",
   "metadata": {},
   "source": [
    "### 2.1. Data Acquisition\n",
    "\n"
   ]
  },
  {
   "cell_type": "markdown",
   "metadata": {},
   "source": [
    "We obtained our data utilizing the Spotify API as well as the Billboard API. First we obtained the artists and song titles for the top 100 streaming songs at four times throughout the year over a period of 5 years (2015-2019). We then used the Spotify API to search for the song features of these popular songs. This was done as a result of the low probability to obtain popular songs at random through Spotify. Thus, we randomly obtained the same number of songs at random from the Spotify API to try and obtain a well distributed dataset. The code to gather the data is included in a separate script file/in the GitHub repository. The data was stored in a public repository on GitHub as well.\n",
    "* Github: https://github.com/hirparap/DS_Spotify_API_Report\n",
    "* Spotify API: [Web API](https://developer.spotify.com/documentation/web-api/)\n",
    "* Billboard API: [billboard.py](https://github.com/guoguo12/billboard-charts)\n",
    "\n",
    "Our dataset consists of 11 important attributes describing the audio features of a certain track on Spotify, including a target attribute that is the Spotify popularity of the track on the platform. We chose to use this as a representation of the success of the song because in today’s music world, streaming is the most widely used method for music listening.\n",
    "Some of the feature attributes gathered from the Spotify API were Acousticness, Danceability, Speechiness, Energy, Liveness, Valence, Key, Mode, Tempo, and Duration. The key variables of interest for our hypothesis were danceability, valence, and tempo. We selected these features due to the fact that many songs that make it to the modern Billboard charts are uptempo dance songs made for the radio.\n",
    "Included below is a more in depth breakdown of the variables:\n",
    "* Acousticness: A confidence measure from 0.0 to 1.0 of whether the track is acoustic\n",
    "* Danceability: A value from 0.0 to 1.0 describing how suitable a track is for dancing\n",
    "* Speechiness: A value from 0.0 to 1.0 describing the presence of spoken words in a track\n",
    "* Energy: Energy is a measure from 0.0 to 1.0 and represents a perceptual measure of intensity and activity\n",
    "* Liveness:  A value from 0.0 to 1.0 detecting the presence of an audience in the recording. Higher liveness values represent an increased probability that the track was performed live\n",
    "* Valence: A measure from 0.0 to 1.0 describing the musical positiveness conveyed by a track\n",
    "* Key: The estimated overall key of the track. Integers map to pitches using standard Pitch Class notation. If no key was detected, the value is -1\n",
    "* Mode: Mode indicates the modality of a track. Major is represented by 1 and minor is 0.\n",
    "* Tempo: The overall estimated tempo of a track in beats per minute (BPM)\n",
    "* Duration: The duration of the track in milliseconds\n",
    "* Popularity: A measure from 0 to 100 describing how popular the track is on Spotify"
   ]
  },
  {
   "cell_type": "markdown",
   "metadata": {},
   "source": [
    "<h4><u>IVs and DVs for Hypotheses</u></h4>\n",
    "\n",
    "(1) Higher danceability is associated with higher popularity tracks\n",
    "* IVs: Danceability\n",
    "* DVs: Popularity\n",
    "\n",
    "(2) Higher valence is associated with higher popularity tracks\n",
    "* IVs: Valence\n",
    "* DVs: Popularity\n",
    "\n",
    "(3) Higher tempo is associated with higher popularity tracks\n",
    "* IVs: Tempo\n",
    "* DVs: Popularity\n",
    "\n",
    "(4) Decision trees, like the Random Forest Tree, will lead to a better accuaracy with our data\n",
    "* IVs: Model Type\n",
    "* DVs: Accuracy/r^2 Values\n",
    "\n",
    "<h4><u>Features and Target Variables for Predictive Models</u></h4>\n",
    "For our predictive models, our target variable will be the popularity of the song on the Spotify streaming platform, ranging from 0 to 100. All of the other aforementioned attributes will serve as the features for training the models. Specifically, Acousticness, Danceability, Speechiness, Energy, Liveness, Valence, Key, Mode, Tempo, and Duration will all be our feature variables\n"
   ]
  },
  {
   "cell_type": "markdown",
   "metadata": {},
   "source": [
    "### 2.3. Data Analysis\n"
   ]
  },
  {
   "cell_type": "markdown",
   "metadata": {},
   "source": [
    "We intend to create a predictor that can estimate a track's popularity on Spotify based on the feature attributes described above. We will be utilizing all the features in the dataset at first, and will conduct feature selection afterwards to try and improve accuracy of our model.\n",
    "\n",
    "Since we are attempting to output a numerical score from 0 to 100 to indicate popularity, we decided to use supervised regression models. By comparing the performance of a variety of models (Linear Regression, Ridge, Lasso, k-Nearest Neighbor, Decision Tree and Random Forest Tree), we hope to find the best predictor of popularity. Descriptions of each model can be seen below:\n",
    "* Linear Regression: Attempts to learn weights of features to predict a sample’s class\n",
    "* Ridge: Linear Regression with L2 regularization to help simplify coefficients and hopefully improve performance. \n",
    "* Lasso: Linear Regression with L1 regularization to help simplify coefficients and hopefully improve performance.\n",
    "* k-Nearest Neighbor: Predicts a sample’s class by averaging the values of the k-nearest neighbors  \n",
    "* Decision Tree Regression: Learns a series of true/false “decisions” to predict a sample’s class\n",
    "* Random Forest Tree Regression: Fits a number of decision tree regressors on various sub-samples of the dataset and uses averaging to improve the predictive accuracy and control over-fitting\n",
    "\n",
    "We decided to use Linear Regression as this would provide a decent baseline for our testing of other models. We also used Ridge and Lasso regression to observe the effect of regularization on the linear model. K-Nearest Neighbor was chosen as we thought it would be interesting to see how effective similar songs could be at predicting popularity. Decision Tree Regression was tested because it can model non-linear data. Lastly, Random Forest Tree Regression was tested as often outperforms standard decision trees. \n",
    "\n",
    "<h4><u>Feature Selection</u></h4>\n",
    "We had a limited set of variables due to the few ways available to quantify song characteristics. Therefore, we used every feature that was obtainable from Spotify. Later we will do feature selection to find the most important variables in prediction and hopefully use a subset of these to improve our models. This will also help evaluate our hypotheses about danceability, valence, and tempo’s impact on Spotify popularity.\n"
   ]
  },
  {
   "cell_type": "markdown",
   "metadata": {},
   "source": [
    "<a id=\"3\"></a>\n",
    "<hr style=\"height:2px; border:none; color:black; background-color:black;\">"
   ]
  },
  {
   "cell_type": "markdown",
   "metadata": {},
   "source": [
    "## 3. RESULTS"
   ]
  },
  {
   "cell_type": "markdown",
   "metadata": {},
   "source": [
    "### 3.1. Data Wrangling\n",
    "\n"
   ]
  },
  {
   "cell_type": "markdown",
   "metadata": {},
   "source": [
    "<h4><u>Imports</u></h4>"
   ]
  },
  {
   "cell_type": "code",
   "execution_count": 18,
   "metadata": {},
   "outputs": [
    {
     "ename": "ModuleNotFoundError",
     "evalue": "No module named 'plotly'",
     "output_type": "error",
     "traceback": [
      "\u001b[1;31m---------------------------------------------------------------------------\u001b[0m",
      "\u001b[1;31mModuleNotFoundError\u001b[0m                       Traceback (most recent call last)",
      "\u001b[1;32m<ipython-input-18-d01272933f16>\u001b[0m in \u001b[0;36m<module>\u001b[1;34m\u001b[0m\n\u001b[0;32m     18\u001b[0m \u001b[1;32mimport\u001b[0m \u001b[0mseaborn\u001b[0m \u001b[1;32mas\u001b[0m \u001b[0msns\u001b[0m\u001b[1;33m\u001b[0m\u001b[1;33m\u001b[0m\u001b[0m\n\u001b[0;32m     19\u001b[0m \u001b[1;32mimport\u001b[0m \u001b[0mmatplotlib\u001b[0m\u001b[1;33m.\u001b[0m\u001b[0mpyplot\u001b[0m \u001b[1;32mas\u001b[0m \u001b[0mplt\u001b[0m\u001b[1;33m\u001b[0m\u001b[1;33m\u001b[0m\u001b[0m\n\u001b[1;32m---> 20\u001b[1;33m \u001b[1;32mimport\u001b[0m \u001b[0mplotly\u001b[0m\u001b[1;33m.\u001b[0m\u001b[0mexpress\u001b[0m \u001b[1;32mas\u001b[0m \u001b[0mpx\u001b[0m\u001b[1;33m\u001b[0m\u001b[1;33m\u001b[0m\u001b[0m\n\u001b[0m",
      "\u001b[1;31mModuleNotFoundError\u001b[0m: No module named 'plotly'"
     ]
    }
   ],
   "source": [
    "#utility and statistical imports\n",
    "import pandas as pd\n",
    "from sklearn.model_selection import train_test_split\n",
    "from sklearn.metrics import r2_score\n",
    "from sklearn.preprocessing import MinMaxScaler\n",
    "from sklearn.feature_selection import RFE\n",
    "from sklearn.preprocessing import OneHotEncoder\n",
    "from sklearn.model_selection import GridSearchCV\n",
    "from scipy import stats\n",
    "#models\n",
    "from sklearn.linear_model import LinearRegression\n",
    "from sklearn.linear_model import Ridge\n",
    "from sklearn.linear_model import Lasso\n",
    "from sklearn.neighbors import KNeighborsRegressor\n",
    "from sklearn.tree import DecisionTreeRegressor\n",
    "from sklearn.ensemble import RandomForestRegressor\n",
    "#visualizations\n",
    "import seaborn as sns\n",
    "import matplotlib.pyplot as plt\n",
    "import plotly.express as px"
   ]
  },
  {
   "cell_type": "markdown",
   "metadata": {},
   "source": [
    "<h4><u>Loading Dataset</u></h4>"
   ]
  },
  {
   "cell_type": "code",
   "execution_count": 3,
   "metadata": {},
   "outputs": [],
   "source": [
    "def import_samples():\n",
    "    #obtain dataset from our repository\n",
    "    samples = pd.read_csv(\"https://raw.githubusercontent.com/hirparap/DS_Spotify_API_Report/master/combined_samples.csv\").drop(\"Unnamed: 0\", axis = 1)\n",
    "    return samples"
   ]
  },
  {
   "cell_type": "code",
   "execution_count": 4,
   "metadata": {},
   "outputs": [
    {
     "data": {
      "text/html": [
       "<div>\n",
       "<style scoped>\n",
       "    .dataframe tbody tr th:only-of-type {\n",
       "        vertical-align: middle;\n",
       "    }\n",
       "\n",
       "    .dataframe tbody tr th {\n",
       "        vertical-align: top;\n",
       "    }\n",
       "\n",
       "    .dataframe thead th {\n",
       "        text-align: right;\n",
       "    }\n",
       "</style>\n",
       "<table border=\"1\" class=\"dataframe\">\n",
       "  <thead>\n",
       "    <tr style=\"text-align: right;\">\n",
       "      <th></th>\n",
       "      <th>Name</th>\n",
       "      <th>Artist</th>\n",
       "      <th>Acousticness</th>\n",
       "      <th>Danceability</th>\n",
       "      <th>Speechiness</th>\n",
       "      <th>Energy</th>\n",
       "      <th>Liveness</th>\n",
       "      <th>Valence</th>\n",
       "      <th>Key</th>\n",
       "      <th>Mode</th>\n",
       "      <th>Tempo</th>\n",
       "      <th>Duration</th>\n",
       "      <th>Popularity</th>\n",
       "    </tr>\n",
       "  </thead>\n",
       "  <tbody>\n",
       "    <tr>\n",
       "      <th>0</th>\n",
       "      <td>All I Want for Christmas Is You</td>\n",
       "      <td>Mariah Carey</td>\n",
       "      <td>0.164000</td>\n",
       "      <td>0.335</td>\n",
       "      <td>0.0386</td>\n",
       "      <td>0.625</td>\n",
       "      <td>0.0708</td>\n",
       "      <td>0.3460</td>\n",
       "      <td>7.0</td>\n",
       "      <td>1.0</td>\n",
       "      <td>150.277</td>\n",
       "      <td>241107.0</td>\n",
       "      <td>70.0</td>\n",
       "    </tr>\n",
       "    <tr>\n",
       "      <th>1</th>\n",
       "      <td>Jingle Bell Rock</td>\n",
       "      <td>Bobby Helms</td>\n",
       "      <td>0.643000</td>\n",
       "      <td>0.754</td>\n",
       "      <td>0.0363</td>\n",
       "      <td>0.424</td>\n",
       "      <td>0.0652</td>\n",
       "      <td>0.8060</td>\n",
       "      <td>2.0</td>\n",
       "      <td>1.0</td>\n",
       "      <td>119.705</td>\n",
       "      <td>130973.0</td>\n",
       "      <td>61.0</td>\n",
       "    </tr>\n",
       "    <tr>\n",
       "      <th>2</th>\n",
       "      <td>Rockin' Around The Christmas Tree</td>\n",
       "      <td>Brenda Lee</td>\n",
       "      <td>0.614000</td>\n",
       "      <td>0.589</td>\n",
       "      <td>0.0502</td>\n",
       "      <td>0.472</td>\n",
       "      <td>0.5050</td>\n",
       "      <td>0.8980</td>\n",
       "      <td>8.0</td>\n",
       "      <td>1.0</td>\n",
       "      <td>67.196</td>\n",
       "      <td>126267.0</td>\n",
       "      <td>62.0</td>\n",
       "    </tr>\n",
       "    <tr>\n",
       "      <th>3</th>\n",
       "      <td>A Holly Jolly Christmas - Single Version</td>\n",
       "      <td>Burl Ives</td>\n",
       "      <td>0.579000</td>\n",
       "      <td>0.683</td>\n",
       "      <td>0.0303</td>\n",
       "      <td>0.375</td>\n",
       "      <td>0.0760</td>\n",
       "      <td>0.8880</td>\n",
       "      <td>0.0</td>\n",
       "      <td>1.0</td>\n",
       "      <td>140.467</td>\n",
       "      <td>135533.0</td>\n",
       "      <td>52.0</td>\n",
       "    </tr>\n",
       "    <tr>\n",
       "      <th>4</th>\n",
       "      <td>The Christmas Song (Merry Christmas To You)</td>\n",
       "      <td>Nat King Cole</td>\n",
       "      <td>0.920000</td>\n",
       "      <td>0.319</td>\n",
       "      <td>0.0341</td>\n",
       "      <td>0.210</td>\n",
       "      <td>0.1380</td>\n",
       "      <td>0.2090</td>\n",
       "      <td>1.0</td>\n",
       "      <td>1.0</td>\n",
       "      <td>78.696</td>\n",
       "      <td>192160.0</td>\n",
       "      <td>58.0</td>\n",
       "    </tr>\n",
       "    <tr>\n",
       "      <th>...</th>\n",
       "      <td>...</td>\n",
       "      <td>...</td>\n",
       "      <td>...</td>\n",
       "      <td>...</td>\n",
       "      <td>...</td>\n",
       "      <td>...</td>\n",
       "      <td>...</td>\n",
       "      <td>...</td>\n",
       "      <td>...</td>\n",
       "      <td>...</td>\n",
       "      <td>...</td>\n",
       "      <td>...</td>\n",
       "      <td>...</td>\n",
       "    </tr>\n",
       "    <tr>\n",
       "      <th>1995</th>\n",
       "      <td>Peace Sells - Remastered</td>\n",
       "      <td>Megadeth</td>\n",
       "      <td>0.000086</td>\n",
       "      <td>0.322</td>\n",
       "      <td>0.1630</td>\n",
       "      <td>0.932</td>\n",
       "      <td>0.0969</td>\n",
       "      <td>0.3760</td>\n",
       "      <td>4.0</td>\n",
       "      <td>0.0</td>\n",
       "      <td>138.042</td>\n",
       "      <td>244160.0</td>\n",
       "      <td>57.0</td>\n",
       "    </tr>\n",
       "    <tr>\n",
       "      <th>1996</th>\n",
       "      <td>Point Of No Return (The Train - Part III)</td>\n",
       "      <td>Alan Silvestri</td>\n",
       "      <td>0.740000</td>\n",
       "      <td>0.414</td>\n",
       "      <td>0.0359</td>\n",
       "      <td>0.590</td>\n",
       "      <td>0.3140</td>\n",
       "      <td>0.0831</td>\n",
       "      <td>2.0</td>\n",
       "      <td>1.0</td>\n",
       "      <td>74.198</td>\n",
       "      <td>229333.0</td>\n",
       "      <td>24.0</td>\n",
       "    </tr>\n",
       "    <tr>\n",
       "      <th>1997</th>\n",
       "      <td>Kirby Air Ride Medley (Live)</td>\n",
       "      <td>Tokyo Philharmonic Orchestra</td>\n",
       "      <td>0.842000</td>\n",
       "      <td>0.347</td>\n",
       "      <td>0.0506</td>\n",
       "      <td>0.498</td>\n",
       "      <td>0.6920</td>\n",
       "      <td>0.3050</td>\n",
       "      <td>4.0</td>\n",
       "      <td>0.0</td>\n",
       "      <td>145.392</td>\n",
       "      <td>288699.0</td>\n",
       "      <td>22.0</td>\n",
       "    </tr>\n",
       "    <tr>\n",
       "      <th>1998</th>\n",
       "      <td>Do Not Worry - Matthew 6:25, 26 &amp; 34a</td>\n",
       "      <td>Steve Green</td>\n",
       "      <td>0.353000</td>\n",
       "      <td>0.816</td>\n",
       "      <td>0.0533</td>\n",
       "      <td>0.471</td>\n",
       "      <td>0.1030</td>\n",
       "      <td>0.8640</td>\n",
       "      <td>0.0</td>\n",
       "      <td>1.0</td>\n",
       "      <td>139.880</td>\n",
       "      <td>122693.0</td>\n",
       "      <td>27.0</td>\n",
       "    </tr>\n",
       "    <tr>\n",
       "      <th>1999</th>\n",
       "      <td>I Need My Girl - Live at Berkeley 9/25/18</td>\n",
       "      <td>The National</td>\n",
       "      <td>0.013800</td>\n",
       "      <td>0.513</td>\n",
       "      <td>0.0336</td>\n",
       "      <td>0.403</td>\n",
       "      <td>0.6490</td>\n",
       "      <td>0.1720</td>\n",
       "      <td>0.0</td>\n",
       "      <td>0.0</td>\n",
       "      <td>123.444</td>\n",
       "      <td>252418.0</td>\n",
       "      <td>25.0</td>\n",
       "    </tr>\n",
       "  </tbody>\n",
       "</table>\n",
       "<p>2000 rows × 13 columns</p>\n",
       "</div>"
      ],
      "text/plain": [
       "                                             Name  \\\n",
       "0                 All I Want for Christmas Is You   \n",
       "1                                Jingle Bell Rock   \n",
       "2               Rockin' Around The Christmas Tree   \n",
       "3        A Holly Jolly Christmas - Single Version   \n",
       "4     The Christmas Song (Merry Christmas To You)   \n",
       "...                                           ...   \n",
       "1995                     Peace Sells - Remastered   \n",
       "1996    Point Of No Return (The Train - Part III)   \n",
       "1997                 Kirby Air Ride Medley (Live)   \n",
       "1998        Do Not Worry - Matthew 6:25, 26 & 34a   \n",
       "1999    I Need My Girl - Live at Berkeley 9/25/18   \n",
       "\n",
       "                            Artist  Acousticness  Danceability  Speechiness  \\\n",
       "0                     Mariah Carey      0.164000         0.335       0.0386   \n",
       "1                      Bobby Helms      0.643000         0.754       0.0363   \n",
       "2                       Brenda Lee      0.614000         0.589       0.0502   \n",
       "3                        Burl Ives      0.579000         0.683       0.0303   \n",
       "4                    Nat King Cole      0.920000         0.319       0.0341   \n",
       "...                            ...           ...           ...          ...   \n",
       "1995                      Megadeth      0.000086         0.322       0.1630   \n",
       "1996                Alan Silvestri      0.740000         0.414       0.0359   \n",
       "1997  Tokyo Philharmonic Orchestra      0.842000         0.347       0.0506   \n",
       "1998                   Steve Green      0.353000         0.816       0.0533   \n",
       "1999                  The National      0.013800         0.513       0.0336   \n",
       "\n",
       "      Energy  Liveness  Valence  Key  Mode    Tempo  Duration  Popularity  \n",
       "0      0.625    0.0708   0.3460  7.0   1.0  150.277  241107.0        70.0  \n",
       "1      0.424    0.0652   0.8060  2.0   1.0  119.705  130973.0        61.0  \n",
       "2      0.472    0.5050   0.8980  8.0   1.0   67.196  126267.0        62.0  \n",
       "3      0.375    0.0760   0.8880  0.0   1.0  140.467  135533.0        52.0  \n",
       "4      0.210    0.1380   0.2090  1.0   1.0   78.696  192160.0        58.0  \n",
       "...      ...       ...      ...  ...   ...      ...       ...         ...  \n",
       "1995   0.932    0.0969   0.3760  4.0   0.0  138.042  244160.0        57.0  \n",
       "1996   0.590    0.3140   0.0831  2.0   1.0   74.198  229333.0        24.0  \n",
       "1997   0.498    0.6920   0.3050  4.0   0.0  145.392  288699.0        22.0  \n",
       "1998   0.471    0.1030   0.8640  0.0   1.0  139.880  122693.0        27.0  \n",
       "1999   0.403    0.6490   0.1720  0.0   0.0  123.444  252418.0        25.0  \n",
       "\n",
       "[2000 rows x 13 columns]"
      ]
     },
     "execution_count": 4,
     "metadata": {},
     "output_type": "execute_result"
    }
   ],
   "source": [
    "samples = import_samples()\n",
    "samples"
   ]
  },
  {
   "cell_type": "code",
   "execution_count": 5,
   "metadata": {},
   "outputs": [],
   "source": [
    "#drops unnecessary columns and isolates the features and target into their own variables\n",
    "def features_and_target(df):\n",
    "    return (df.drop(columns = [\"Name\", \"Artist\", \"Popularity\"]), df[\"Popularity\"])"
   ]
  },
  {
   "cell_type": "code",
   "execution_count": 6,
   "metadata": {},
   "outputs": [],
   "source": [
    "features, target = features_and_target(samples)"
   ]
  },
  {
   "cell_type": "code",
   "execution_count": 7,
   "metadata": {},
   "outputs": [
    {
     "data": {
      "text/html": [
       "<div>\n",
       "<style scoped>\n",
       "    .dataframe tbody tr th:only-of-type {\n",
       "        vertical-align: middle;\n",
       "    }\n",
       "\n",
       "    .dataframe tbody tr th {\n",
       "        vertical-align: top;\n",
       "    }\n",
       "\n",
       "    .dataframe thead th {\n",
       "        text-align: right;\n",
       "    }\n",
       "</style>\n",
       "<table border=\"1\" class=\"dataframe\">\n",
       "  <thead>\n",
       "    <tr style=\"text-align: right;\">\n",
       "      <th></th>\n",
       "      <th>Acousticness</th>\n",
       "      <th>Danceability</th>\n",
       "      <th>Speechiness</th>\n",
       "      <th>Energy</th>\n",
       "      <th>Liveness</th>\n",
       "      <th>Valence</th>\n",
       "      <th>Key</th>\n",
       "      <th>Mode</th>\n",
       "      <th>Tempo</th>\n",
       "      <th>Duration</th>\n",
       "    </tr>\n",
       "  </thead>\n",
       "  <tbody>\n",
       "    <tr>\n",
       "      <th>0</th>\n",
       "      <td>0.164000</td>\n",
       "      <td>0.335</td>\n",
       "      <td>0.0386</td>\n",
       "      <td>0.625</td>\n",
       "      <td>0.0708</td>\n",
       "      <td>0.3460</td>\n",
       "      <td>7.0</td>\n",
       "      <td>1.0</td>\n",
       "      <td>150.277</td>\n",
       "      <td>241107.0</td>\n",
       "    </tr>\n",
       "    <tr>\n",
       "      <th>1</th>\n",
       "      <td>0.643000</td>\n",
       "      <td>0.754</td>\n",
       "      <td>0.0363</td>\n",
       "      <td>0.424</td>\n",
       "      <td>0.0652</td>\n",
       "      <td>0.8060</td>\n",
       "      <td>2.0</td>\n",
       "      <td>1.0</td>\n",
       "      <td>119.705</td>\n",
       "      <td>130973.0</td>\n",
       "    </tr>\n",
       "    <tr>\n",
       "      <th>2</th>\n",
       "      <td>0.614000</td>\n",
       "      <td>0.589</td>\n",
       "      <td>0.0502</td>\n",
       "      <td>0.472</td>\n",
       "      <td>0.5050</td>\n",
       "      <td>0.8980</td>\n",
       "      <td>8.0</td>\n",
       "      <td>1.0</td>\n",
       "      <td>67.196</td>\n",
       "      <td>126267.0</td>\n",
       "    </tr>\n",
       "    <tr>\n",
       "      <th>3</th>\n",
       "      <td>0.579000</td>\n",
       "      <td>0.683</td>\n",
       "      <td>0.0303</td>\n",
       "      <td>0.375</td>\n",
       "      <td>0.0760</td>\n",
       "      <td>0.8880</td>\n",
       "      <td>0.0</td>\n",
       "      <td>1.0</td>\n",
       "      <td>140.467</td>\n",
       "      <td>135533.0</td>\n",
       "    </tr>\n",
       "    <tr>\n",
       "      <th>4</th>\n",
       "      <td>0.920000</td>\n",
       "      <td>0.319</td>\n",
       "      <td>0.0341</td>\n",
       "      <td>0.210</td>\n",
       "      <td>0.1380</td>\n",
       "      <td>0.2090</td>\n",
       "      <td>1.0</td>\n",
       "      <td>1.0</td>\n",
       "      <td>78.696</td>\n",
       "      <td>192160.0</td>\n",
       "    </tr>\n",
       "    <tr>\n",
       "      <th>...</th>\n",
       "      <td>...</td>\n",
       "      <td>...</td>\n",
       "      <td>...</td>\n",
       "      <td>...</td>\n",
       "      <td>...</td>\n",
       "      <td>...</td>\n",
       "      <td>...</td>\n",
       "      <td>...</td>\n",
       "      <td>...</td>\n",
       "      <td>...</td>\n",
       "    </tr>\n",
       "    <tr>\n",
       "      <th>1995</th>\n",
       "      <td>0.000086</td>\n",
       "      <td>0.322</td>\n",
       "      <td>0.1630</td>\n",
       "      <td>0.932</td>\n",
       "      <td>0.0969</td>\n",
       "      <td>0.3760</td>\n",
       "      <td>4.0</td>\n",
       "      <td>0.0</td>\n",
       "      <td>138.042</td>\n",
       "      <td>244160.0</td>\n",
       "    </tr>\n",
       "    <tr>\n",
       "      <th>1996</th>\n",
       "      <td>0.740000</td>\n",
       "      <td>0.414</td>\n",
       "      <td>0.0359</td>\n",
       "      <td>0.590</td>\n",
       "      <td>0.3140</td>\n",
       "      <td>0.0831</td>\n",
       "      <td>2.0</td>\n",
       "      <td>1.0</td>\n",
       "      <td>74.198</td>\n",
       "      <td>229333.0</td>\n",
       "    </tr>\n",
       "    <tr>\n",
       "      <th>1997</th>\n",
       "      <td>0.842000</td>\n",
       "      <td>0.347</td>\n",
       "      <td>0.0506</td>\n",
       "      <td>0.498</td>\n",
       "      <td>0.6920</td>\n",
       "      <td>0.3050</td>\n",
       "      <td>4.0</td>\n",
       "      <td>0.0</td>\n",
       "      <td>145.392</td>\n",
       "      <td>288699.0</td>\n",
       "    </tr>\n",
       "    <tr>\n",
       "      <th>1998</th>\n",
       "      <td>0.353000</td>\n",
       "      <td>0.816</td>\n",
       "      <td>0.0533</td>\n",
       "      <td>0.471</td>\n",
       "      <td>0.1030</td>\n",
       "      <td>0.8640</td>\n",
       "      <td>0.0</td>\n",
       "      <td>1.0</td>\n",
       "      <td>139.880</td>\n",
       "      <td>122693.0</td>\n",
       "    </tr>\n",
       "    <tr>\n",
       "      <th>1999</th>\n",
       "      <td>0.013800</td>\n",
       "      <td>0.513</td>\n",
       "      <td>0.0336</td>\n",
       "      <td>0.403</td>\n",
       "      <td>0.6490</td>\n",
       "      <td>0.1720</td>\n",
       "      <td>0.0</td>\n",
       "      <td>0.0</td>\n",
       "      <td>123.444</td>\n",
       "      <td>252418.0</td>\n",
       "    </tr>\n",
       "  </tbody>\n",
       "</table>\n",
       "<p>2000 rows × 10 columns</p>\n",
       "</div>"
      ],
      "text/plain": [
       "      Acousticness  Danceability  Speechiness  Energy  Liveness  Valence  Key  \\\n",
       "0         0.164000         0.335       0.0386   0.625    0.0708   0.3460  7.0   \n",
       "1         0.643000         0.754       0.0363   0.424    0.0652   0.8060  2.0   \n",
       "2         0.614000         0.589       0.0502   0.472    0.5050   0.8980  8.0   \n",
       "3         0.579000         0.683       0.0303   0.375    0.0760   0.8880  0.0   \n",
       "4         0.920000         0.319       0.0341   0.210    0.1380   0.2090  1.0   \n",
       "...            ...           ...          ...     ...       ...      ...  ...   \n",
       "1995      0.000086         0.322       0.1630   0.932    0.0969   0.3760  4.0   \n",
       "1996      0.740000         0.414       0.0359   0.590    0.3140   0.0831  2.0   \n",
       "1997      0.842000         0.347       0.0506   0.498    0.6920   0.3050  4.0   \n",
       "1998      0.353000         0.816       0.0533   0.471    0.1030   0.8640  0.0   \n",
       "1999      0.013800         0.513       0.0336   0.403    0.6490   0.1720  0.0   \n",
       "\n",
       "      Mode    Tempo  Duration  \n",
       "0      1.0  150.277  241107.0  \n",
       "1      1.0  119.705  130973.0  \n",
       "2      1.0   67.196  126267.0  \n",
       "3      1.0  140.467  135533.0  \n",
       "4      1.0   78.696  192160.0  \n",
       "...    ...      ...       ...  \n",
       "1995   0.0  138.042  244160.0  \n",
       "1996   1.0   74.198  229333.0  \n",
       "1997   0.0  145.392  288699.0  \n",
       "1998   1.0  139.880  122693.0  \n",
       "1999   0.0  123.444  252418.0  \n",
       "\n",
       "[2000 rows x 10 columns]"
      ]
     },
     "execution_count": 7,
     "metadata": {},
     "output_type": "execute_result"
    }
   ],
   "source": [
    "features"
   ]
  },
  {
   "cell_type": "code",
   "execution_count": 8,
   "metadata": {},
   "outputs": [
    {
     "data": {
      "text/plain": [
       "0       70.0\n",
       "1       61.0\n",
       "2       62.0\n",
       "3       52.0\n",
       "4       58.0\n",
       "        ... \n",
       "1995    57.0\n",
       "1996    24.0\n",
       "1997    22.0\n",
       "1998    27.0\n",
       "1999    25.0\n",
       "Name: Popularity, Length: 2000, dtype: float64"
      ]
     },
     "execution_count": 8,
     "metadata": {},
     "output_type": "execute_result"
    }
   ],
   "source": [
    "target"
   ]
  },
  {
   "cell_type": "markdown",
   "metadata": {},
   "source": [
    "<h4><u>Feature Extraction</u></h4>"
   ]
  },
  {
   "cell_type": "code",
   "execution_count": 9,
   "metadata": {},
   "outputs": [],
   "source": [
    "#create a one hot representation of a given column\n",
    "def one_hot_representation(df):\n",
    "    encoder = OneHotEncoder(sparse = False)\n",
    "    encoded_df = encoder.fit_transform(df)\n",
    "    return encoded_df"
   ]
  },
  {
   "cell_type": "markdown",
   "metadata": {},
   "source": [
    "Use dummy variables to represent one hot encoding of possible keys."
   ]
  },
  {
   "cell_type": "code",
   "execution_count": 10,
   "metadata": {},
   "outputs": [
    {
     "data": {
      "text/html": [
       "<div>\n",
       "<style scoped>\n",
       "    .dataframe tbody tr th:only-of-type {\n",
       "        vertical-align: middle;\n",
       "    }\n",
       "\n",
       "    .dataframe tbody tr th {\n",
       "        vertical-align: top;\n",
       "    }\n",
       "\n",
       "    .dataframe thead th {\n",
       "        text-align: right;\n",
       "    }\n",
       "</style>\n",
       "<table border=\"1\" class=\"dataframe\">\n",
       "  <thead>\n",
       "    <tr style=\"text-align: right;\">\n",
       "      <th></th>\n",
       "      <th>Acousticness</th>\n",
       "      <th>Danceability</th>\n",
       "      <th>Speechiness</th>\n",
       "      <th>Energy</th>\n",
       "      <th>Liveness</th>\n",
       "      <th>Valence</th>\n",
       "      <th>Mode</th>\n",
       "      <th>Tempo</th>\n",
       "      <th>Duration</th>\n",
       "      <th>key_0</th>\n",
       "      <th>...</th>\n",
       "      <th>key_2</th>\n",
       "      <th>key_3</th>\n",
       "      <th>key_4</th>\n",
       "      <th>key_5</th>\n",
       "      <th>key_6</th>\n",
       "      <th>key_7</th>\n",
       "      <th>key_8</th>\n",
       "      <th>key_9</th>\n",
       "      <th>key_10</th>\n",
       "      <th>key_11</th>\n",
       "    </tr>\n",
       "  </thead>\n",
       "  <tbody>\n",
       "    <tr>\n",
       "      <th>0</th>\n",
       "      <td>0.164000</td>\n",
       "      <td>0.335</td>\n",
       "      <td>0.0386</td>\n",
       "      <td>0.625</td>\n",
       "      <td>0.0708</td>\n",
       "      <td>0.3460</td>\n",
       "      <td>1.0</td>\n",
       "      <td>150.277</td>\n",
       "      <td>241107.0</td>\n",
       "      <td>0.0</td>\n",
       "      <td>...</td>\n",
       "      <td>0.0</td>\n",
       "      <td>0.0</td>\n",
       "      <td>0.0</td>\n",
       "      <td>0.0</td>\n",
       "      <td>0.0</td>\n",
       "      <td>1.0</td>\n",
       "      <td>0.0</td>\n",
       "      <td>0.0</td>\n",
       "      <td>0.0</td>\n",
       "      <td>0.0</td>\n",
       "    </tr>\n",
       "    <tr>\n",
       "      <th>1</th>\n",
       "      <td>0.643000</td>\n",
       "      <td>0.754</td>\n",
       "      <td>0.0363</td>\n",
       "      <td>0.424</td>\n",
       "      <td>0.0652</td>\n",
       "      <td>0.8060</td>\n",
       "      <td>1.0</td>\n",
       "      <td>119.705</td>\n",
       "      <td>130973.0</td>\n",
       "      <td>0.0</td>\n",
       "      <td>...</td>\n",
       "      <td>1.0</td>\n",
       "      <td>0.0</td>\n",
       "      <td>0.0</td>\n",
       "      <td>0.0</td>\n",
       "      <td>0.0</td>\n",
       "      <td>0.0</td>\n",
       "      <td>0.0</td>\n",
       "      <td>0.0</td>\n",
       "      <td>0.0</td>\n",
       "      <td>0.0</td>\n",
       "    </tr>\n",
       "    <tr>\n",
       "      <th>2</th>\n",
       "      <td>0.614000</td>\n",
       "      <td>0.589</td>\n",
       "      <td>0.0502</td>\n",
       "      <td>0.472</td>\n",
       "      <td>0.5050</td>\n",
       "      <td>0.8980</td>\n",
       "      <td>1.0</td>\n",
       "      <td>67.196</td>\n",
       "      <td>126267.0</td>\n",
       "      <td>0.0</td>\n",
       "      <td>...</td>\n",
       "      <td>0.0</td>\n",
       "      <td>0.0</td>\n",
       "      <td>0.0</td>\n",
       "      <td>0.0</td>\n",
       "      <td>0.0</td>\n",
       "      <td>0.0</td>\n",
       "      <td>1.0</td>\n",
       "      <td>0.0</td>\n",
       "      <td>0.0</td>\n",
       "      <td>0.0</td>\n",
       "    </tr>\n",
       "    <tr>\n",
       "      <th>3</th>\n",
       "      <td>0.579000</td>\n",
       "      <td>0.683</td>\n",
       "      <td>0.0303</td>\n",
       "      <td>0.375</td>\n",
       "      <td>0.0760</td>\n",
       "      <td>0.8880</td>\n",
       "      <td>1.0</td>\n",
       "      <td>140.467</td>\n",
       "      <td>135533.0</td>\n",
       "      <td>1.0</td>\n",
       "      <td>...</td>\n",
       "      <td>0.0</td>\n",
       "      <td>0.0</td>\n",
       "      <td>0.0</td>\n",
       "      <td>0.0</td>\n",
       "      <td>0.0</td>\n",
       "      <td>0.0</td>\n",
       "      <td>0.0</td>\n",
       "      <td>0.0</td>\n",
       "      <td>0.0</td>\n",
       "      <td>0.0</td>\n",
       "    </tr>\n",
       "    <tr>\n",
       "      <th>4</th>\n",
       "      <td>0.920000</td>\n",
       "      <td>0.319</td>\n",
       "      <td>0.0341</td>\n",
       "      <td>0.210</td>\n",
       "      <td>0.1380</td>\n",
       "      <td>0.2090</td>\n",
       "      <td>1.0</td>\n",
       "      <td>78.696</td>\n",
       "      <td>192160.0</td>\n",
       "      <td>0.0</td>\n",
       "      <td>...</td>\n",
       "      <td>0.0</td>\n",
       "      <td>0.0</td>\n",
       "      <td>0.0</td>\n",
       "      <td>0.0</td>\n",
       "      <td>0.0</td>\n",
       "      <td>0.0</td>\n",
       "      <td>0.0</td>\n",
       "      <td>0.0</td>\n",
       "      <td>0.0</td>\n",
       "      <td>0.0</td>\n",
       "    </tr>\n",
       "    <tr>\n",
       "      <th>...</th>\n",
       "      <td>...</td>\n",
       "      <td>...</td>\n",
       "      <td>...</td>\n",
       "      <td>...</td>\n",
       "      <td>...</td>\n",
       "      <td>...</td>\n",
       "      <td>...</td>\n",
       "      <td>...</td>\n",
       "      <td>...</td>\n",
       "      <td>...</td>\n",
       "      <td>...</td>\n",
       "      <td>...</td>\n",
       "      <td>...</td>\n",
       "      <td>...</td>\n",
       "      <td>...</td>\n",
       "      <td>...</td>\n",
       "      <td>...</td>\n",
       "      <td>...</td>\n",
       "      <td>...</td>\n",
       "      <td>...</td>\n",
       "      <td>...</td>\n",
       "    </tr>\n",
       "    <tr>\n",
       "      <th>1995</th>\n",
       "      <td>0.000086</td>\n",
       "      <td>0.322</td>\n",
       "      <td>0.1630</td>\n",
       "      <td>0.932</td>\n",
       "      <td>0.0969</td>\n",
       "      <td>0.3760</td>\n",
       "      <td>0.0</td>\n",
       "      <td>138.042</td>\n",
       "      <td>244160.0</td>\n",
       "      <td>0.0</td>\n",
       "      <td>...</td>\n",
       "      <td>0.0</td>\n",
       "      <td>0.0</td>\n",
       "      <td>1.0</td>\n",
       "      <td>0.0</td>\n",
       "      <td>0.0</td>\n",
       "      <td>0.0</td>\n",
       "      <td>0.0</td>\n",
       "      <td>0.0</td>\n",
       "      <td>0.0</td>\n",
       "      <td>0.0</td>\n",
       "    </tr>\n",
       "    <tr>\n",
       "      <th>1996</th>\n",
       "      <td>0.740000</td>\n",
       "      <td>0.414</td>\n",
       "      <td>0.0359</td>\n",
       "      <td>0.590</td>\n",
       "      <td>0.3140</td>\n",
       "      <td>0.0831</td>\n",
       "      <td>1.0</td>\n",
       "      <td>74.198</td>\n",
       "      <td>229333.0</td>\n",
       "      <td>0.0</td>\n",
       "      <td>...</td>\n",
       "      <td>1.0</td>\n",
       "      <td>0.0</td>\n",
       "      <td>0.0</td>\n",
       "      <td>0.0</td>\n",
       "      <td>0.0</td>\n",
       "      <td>0.0</td>\n",
       "      <td>0.0</td>\n",
       "      <td>0.0</td>\n",
       "      <td>0.0</td>\n",
       "      <td>0.0</td>\n",
       "    </tr>\n",
       "    <tr>\n",
       "      <th>1997</th>\n",
       "      <td>0.842000</td>\n",
       "      <td>0.347</td>\n",
       "      <td>0.0506</td>\n",
       "      <td>0.498</td>\n",
       "      <td>0.6920</td>\n",
       "      <td>0.3050</td>\n",
       "      <td>0.0</td>\n",
       "      <td>145.392</td>\n",
       "      <td>288699.0</td>\n",
       "      <td>0.0</td>\n",
       "      <td>...</td>\n",
       "      <td>0.0</td>\n",
       "      <td>0.0</td>\n",
       "      <td>1.0</td>\n",
       "      <td>0.0</td>\n",
       "      <td>0.0</td>\n",
       "      <td>0.0</td>\n",
       "      <td>0.0</td>\n",
       "      <td>0.0</td>\n",
       "      <td>0.0</td>\n",
       "      <td>0.0</td>\n",
       "    </tr>\n",
       "    <tr>\n",
       "      <th>1998</th>\n",
       "      <td>0.353000</td>\n",
       "      <td>0.816</td>\n",
       "      <td>0.0533</td>\n",
       "      <td>0.471</td>\n",
       "      <td>0.1030</td>\n",
       "      <td>0.8640</td>\n",
       "      <td>1.0</td>\n",
       "      <td>139.880</td>\n",
       "      <td>122693.0</td>\n",
       "      <td>1.0</td>\n",
       "      <td>...</td>\n",
       "      <td>0.0</td>\n",
       "      <td>0.0</td>\n",
       "      <td>0.0</td>\n",
       "      <td>0.0</td>\n",
       "      <td>0.0</td>\n",
       "      <td>0.0</td>\n",
       "      <td>0.0</td>\n",
       "      <td>0.0</td>\n",
       "      <td>0.0</td>\n",
       "      <td>0.0</td>\n",
       "    </tr>\n",
       "    <tr>\n",
       "      <th>1999</th>\n",
       "      <td>0.013800</td>\n",
       "      <td>0.513</td>\n",
       "      <td>0.0336</td>\n",
       "      <td>0.403</td>\n",
       "      <td>0.6490</td>\n",
       "      <td>0.1720</td>\n",
       "      <td>0.0</td>\n",
       "      <td>123.444</td>\n",
       "      <td>252418.0</td>\n",
       "      <td>1.0</td>\n",
       "      <td>...</td>\n",
       "      <td>0.0</td>\n",
       "      <td>0.0</td>\n",
       "      <td>0.0</td>\n",
       "      <td>0.0</td>\n",
       "      <td>0.0</td>\n",
       "      <td>0.0</td>\n",
       "      <td>0.0</td>\n",
       "      <td>0.0</td>\n",
       "      <td>0.0</td>\n",
       "      <td>0.0</td>\n",
       "    </tr>\n",
       "  </tbody>\n",
       "</table>\n",
       "<p>2000 rows × 21 columns</p>\n",
       "</div>"
      ],
      "text/plain": [
       "      Acousticness  Danceability  Speechiness  Energy  Liveness  Valence  \\\n",
       "0         0.164000         0.335       0.0386   0.625    0.0708   0.3460   \n",
       "1         0.643000         0.754       0.0363   0.424    0.0652   0.8060   \n",
       "2         0.614000         0.589       0.0502   0.472    0.5050   0.8980   \n",
       "3         0.579000         0.683       0.0303   0.375    0.0760   0.8880   \n",
       "4         0.920000         0.319       0.0341   0.210    0.1380   0.2090   \n",
       "...            ...           ...          ...     ...       ...      ...   \n",
       "1995      0.000086         0.322       0.1630   0.932    0.0969   0.3760   \n",
       "1996      0.740000         0.414       0.0359   0.590    0.3140   0.0831   \n",
       "1997      0.842000         0.347       0.0506   0.498    0.6920   0.3050   \n",
       "1998      0.353000         0.816       0.0533   0.471    0.1030   0.8640   \n",
       "1999      0.013800         0.513       0.0336   0.403    0.6490   0.1720   \n",
       "\n",
       "      Mode    Tempo  Duration  key_0  ...  key_2  key_3  key_4  key_5  key_6  \\\n",
       "0      1.0  150.277  241107.0    0.0  ...    0.0    0.0    0.0    0.0    0.0   \n",
       "1      1.0  119.705  130973.0    0.0  ...    1.0    0.0    0.0    0.0    0.0   \n",
       "2      1.0   67.196  126267.0    0.0  ...    0.0    0.0    0.0    0.0    0.0   \n",
       "3      1.0  140.467  135533.0    1.0  ...    0.0    0.0    0.0    0.0    0.0   \n",
       "4      1.0   78.696  192160.0    0.0  ...    0.0    0.0    0.0    0.0    0.0   \n",
       "...    ...      ...       ...    ...  ...    ...    ...    ...    ...    ...   \n",
       "1995   0.0  138.042  244160.0    0.0  ...    0.0    0.0    1.0    0.0    0.0   \n",
       "1996   1.0   74.198  229333.0    0.0  ...    1.0    0.0    0.0    0.0    0.0   \n",
       "1997   0.0  145.392  288699.0    0.0  ...    0.0    0.0    1.0    0.0    0.0   \n",
       "1998   1.0  139.880  122693.0    1.0  ...    0.0    0.0    0.0    0.0    0.0   \n",
       "1999   0.0  123.444  252418.0    1.0  ...    0.0    0.0    0.0    0.0    0.0   \n",
       "\n",
       "      key_7  key_8  key_9  key_10  key_11  \n",
       "0       1.0    0.0    0.0     0.0     0.0  \n",
       "1       0.0    0.0    0.0     0.0     0.0  \n",
       "2       0.0    1.0    0.0     0.0     0.0  \n",
       "3       0.0    0.0    0.0     0.0     0.0  \n",
       "4       0.0    0.0    0.0     0.0     0.0  \n",
       "...     ...    ...    ...     ...     ...  \n",
       "1995    0.0    0.0    0.0     0.0     0.0  \n",
       "1996    0.0    0.0    0.0     0.0     0.0  \n",
       "1997    0.0    0.0    0.0     0.0     0.0  \n",
       "1998    0.0    0.0    0.0     0.0     0.0  \n",
       "1999    0.0    0.0    0.0     0.0     0.0  \n",
       "\n",
       "[2000 rows x 21 columns]"
      ]
     },
     "execution_count": 10,
     "metadata": {},
     "output_type": "execute_result"
    }
   ],
   "source": [
    "keys = features[\"Key\"].values.reshape(-1,1)\n",
    "encoded_df = one_hot_representation(keys)\n",
    "#create better columns names\n",
    "col = ['key_' + str(i) for i in range(12)]\n",
    "key_df = pd.DataFrame(encoded_df, columns = col)\n",
    "#add the encoding to the features dataframe\n",
    "features = features.drop(columns=['Key'])\n",
    "features = features.join(key_df)\n",
    "features"
   ]
  },
  {
   "cell_type": "markdown",
   "metadata": {},
   "source": [
    "Scaling of necessary variables"
   ]
  },
  {
   "cell_type": "code",
   "execution_count": 11,
   "metadata": {},
   "outputs": [
    {
     "data": {
      "text/html": [
       "<div>\n",
       "<style scoped>\n",
       "    .dataframe tbody tr th:only-of-type {\n",
       "        vertical-align: middle;\n",
       "    }\n",
       "\n",
       "    .dataframe tbody tr th {\n",
       "        vertical-align: top;\n",
       "    }\n",
       "\n",
       "    .dataframe thead th {\n",
       "        text-align: right;\n",
       "    }\n",
       "</style>\n",
       "<table border=\"1\" class=\"dataframe\">\n",
       "  <thead>\n",
       "    <tr style=\"text-align: right;\">\n",
       "      <th></th>\n",
       "      <th>Acousticness</th>\n",
       "      <th>Danceability</th>\n",
       "      <th>Speechiness</th>\n",
       "      <th>Energy</th>\n",
       "      <th>Liveness</th>\n",
       "      <th>Valence</th>\n",
       "      <th>Mode</th>\n",
       "      <th>key_0</th>\n",
       "      <th>key_1</th>\n",
       "      <th>key_2</th>\n",
       "      <th>...</th>\n",
       "      <th>key_4</th>\n",
       "      <th>key_5</th>\n",
       "      <th>key_6</th>\n",
       "      <th>key_7</th>\n",
       "      <th>key_8</th>\n",
       "      <th>key_9</th>\n",
       "      <th>key_10</th>\n",
       "      <th>key_11</th>\n",
       "      <th>Tempo</th>\n",
       "      <th>Duration</th>\n",
       "    </tr>\n",
       "  </thead>\n",
       "  <tbody>\n",
       "    <tr>\n",
       "      <th>0</th>\n",
       "      <td>0.164000</td>\n",
       "      <td>0.335</td>\n",
       "      <td>0.0386</td>\n",
       "      <td>0.625</td>\n",
       "      <td>0.0708</td>\n",
       "      <td>0.3460</td>\n",
       "      <td>1.0</td>\n",
       "      <td>0.0</td>\n",
       "      <td>0.0</td>\n",
       "      <td>0.0</td>\n",
       "      <td>...</td>\n",
       "      <td>0.0</td>\n",
       "      <td>0.0</td>\n",
       "      <td>0.0</td>\n",
       "      <td>1.0</td>\n",
       "      <td>0.0</td>\n",
       "      <td>0.0</td>\n",
       "      <td>0.0</td>\n",
       "      <td>0.0</td>\n",
       "      <td>0.725573</td>\n",
       "      <td>0.057663</td>\n",
       "    </tr>\n",
       "    <tr>\n",
       "      <th>1</th>\n",
       "      <td>0.643000</td>\n",
       "      <td>0.754</td>\n",
       "      <td>0.0363</td>\n",
       "      <td>0.424</td>\n",
       "      <td>0.0652</td>\n",
       "      <td>0.8060</td>\n",
       "      <td>1.0</td>\n",
       "      <td>0.0</td>\n",
       "      <td>0.0</td>\n",
       "      <td>1.0</td>\n",
       "      <td>...</td>\n",
       "      <td>0.0</td>\n",
       "      <td>0.0</td>\n",
       "      <td>0.0</td>\n",
       "      <td>0.0</td>\n",
       "      <td>0.0</td>\n",
       "      <td>0.0</td>\n",
       "      <td>0.0</td>\n",
       "      <td>0.0</td>\n",
       "      <td>0.577964</td>\n",
       "      <td>0.026764</td>\n",
       "    </tr>\n",
       "    <tr>\n",
       "      <th>2</th>\n",
       "      <td>0.614000</td>\n",
       "      <td>0.589</td>\n",
       "      <td>0.0502</td>\n",
       "      <td>0.472</td>\n",
       "      <td>0.5050</td>\n",
       "      <td>0.8980</td>\n",
       "      <td>1.0</td>\n",
       "      <td>0.0</td>\n",
       "      <td>0.0</td>\n",
       "      <td>0.0</td>\n",
       "      <td>...</td>\n",
       "      <td>0.0</td>\n",
       "      <td>0.0</td>\n",
       "      <td>0.0</td>\n",
       "      <td>0.0</td>\n",
       "      <td>1.0</td>\n",
       "      <td>0.0</td>\n",
       "      <td>0.0</td>\n",
       "      <td>0.0</td>\n",
       "      <td>0.324438</td>\n",
       "      <td>0.025444</td>\n",
       "    </tr>\n",
       "    <tr>\n",
       "      <th>3</th>\n",
       "      <td>0.579000</td>\n",
       "      <td>0.683</td>\n",
       "      <td>0.0303</td>\n",
       "      <td>0.375</td>\n",
       "      <td>0.0760</td>\n",
       "      <td>0.8880</td>\n",
       "      <td>1.0</td>\n",
       "      <td>1.0</td>\n",
       "      <td>0.0</td>\n",
       "      <td>0.0</td>\n",
       "      <td>...</td>\n",
       "      <td>0.0</td>\n",
       "      <td>0.0</td>\n",
       "      <td>0.0</td>\n",
       "      <td>0.0</td>\n",
       "      <td>0.0</td>\n",
       "      <td>0.0</td>\n",
       "      <td>0.0</td>\n",
       "      <td>0.0</td>\n",
       "      <td>0.678208</td>\n",
       "      <td>0.028044</td>\n",
       "    </tr>\n",
       "    <tr>\n",
       "      <th>4</th>\n",
       "      <td>0.920000</td>\n",
       "      <td>0.319</td>\n",
       "      <td>0.0341</td>\n",
       "      <td>0.210</td>\n",
       "      <td>0.1380</td>\n",
       "      <td>0.2090</td>\n",
       "      <td>1.0</td>\n",
       "      <td>0.0</td>\n",
       "      <td>1.0</td>\n",
       "      <td>0.0</td>\n",
       "      <td>...</td>\n",
       "      <td>0.0</td>\n",
       "      <td>0.0</td>\n",
       "      <td>0.0</td>\n",
       "      <td>0.0</td>\n",
       "      <td>0.0</td>\n",
       "      <td>0.0</td>\n",
       "      <td>0.0</td>\n",
       "      <td>0.0</td>\n",
       "      <td>0.379963</td>\n",
       "      <td>0.043930</td>\n",
       "    </tr>\n",
       "    <tr>\n",
       "      <th>...</th>\n",
       "      <td>...</td>\n",
       "      <td>...</td>\n",
       "      <td>...</td>\n",
       "      <td>...</td>\n",
       "      <td>...</td>\n",
       "      <td>...</td>\n",
       "      <td>...</td>\n",
       "      <td>...</td>\n",
       "      <td>...</td>\n",
       "      <td>...</td>\n",
       "      <td>...</td>\n",
       "      <td>...</td>\n",
       "      <td>...</td>\n",
       "      <td>...</td>\n",
       "      <td>...</td>\n",
       "      <td>...</td>\n",
       "      <td>...</td>\n",
       "      <td>...</td>\n",
       "      <td>...</td>\n",
       "      <td>...</td>\n",
       "      <td>...</td>\n",
       "    </tr>\n",
       "    <tr>\n",
       "      <th>1995</th>\n",
       "      <td>0.000086</td>\n",
       "      <td>0.322</td>\n",
       "      <td>0.1630</td>\n",
       "      <td>0.932</td>\n",
       "      <td>0.0969</td>\n",
       "      <td>0.3760</td>\n",
       "      <td>0.0</td>\n",
       "      <td>0.0</td>\n",
       "      <td>0.0</td>\n",
       "      <td>0.0</td>\n",
       "      <td>...</td>\n",
       "      <td>1.0</td>\n",
       "      <td>0.0</td>\n",
       "      <td>0.0</td>\n",
       "      <td>0.0</td>\n",
       "      <td>0.0</td>\n",
       "      <td>0.0</td>\n",
       "      <td>0.0</td>\n",
       "      <td>0.0</td>\n",
       "      <td>0.666499</td>\n",
       "      <td>0.058519</td>\n",
       "    </tr>\n",
       "    <tr>\n",
       "      <th>1996</th>\n",
       "      <td>0.740000</td>\n",
       "      <td>0.414</td>\n",
       "      <td>0.0359</td>\n",
       "      <td>0.590</td>\n",
       "      <td>0.3140</td>\n",
       "      <td>0.0831</td>\n",
       "      <td>1.0</td>\n",
       "      <td>0.0</td>\n",
       "      <td>0.0</td>\n",
       "      <td>1.0</td>\n",
       "      <td>...</td>\n",
       "      <td>0.0</td>\n",
       "      <td>0.0</td>\n",
       "      <td>0.0</td>\n",
       "      <td>0.0</td>\n",
       "      <td>0.0</td>\n",
       "      <td>0.0</td>\n",
       "      <td>0.0</td>\n",
       "      <td>0.0</td>\n",
       "      <td>0.358245</td>\n",
       "      <td>0.054359</td>\n",
       "    </tr>\n",
       "    <tr>\n",
       "      <th>1997</th>\n",
       "      <td>0.842000</td>\n",
       "      <td>0.347</td>\n",
       "      <td>0.0506</td>\n",
       "      <td>0.498</td>\n",
       "      <td>0.6920</td>\n",
       "      <td>0.3050</td>\n",
       "      <td>0.0</td>\n",
       "      <td>0.0</td>\n",
       "      <td>0.0</td>\n",
       "      <td>0.0</td>\n",
       "      <td>...</td>\n",
       "      <td>1.0</td>\n",
       "      <td>0.0</td>\n",
       "      <td>0.0</td>\n",
       "      <td>0.0</td>\n",
       "      <td>0.0</td>\n",
       "      <td>0.0</td>\n",
       "      <td>0.0</td>\n",
       "      <td>0.0</td>\n",
       "      <td>0.701987</td>\n",
       "      <td>0.071014</td>\n",
       "    </tr>\n",
       "    <tr>\n",
       "      <th>1998</th>\n",
       "      <td>0.353000</td>\n",
       "      <td>0.816</td>\n",
       "      <td>0.0533</td>\n",
       "      <td>0.471</td>\n",
       "      <td>0.1030</td>\n",
       "      <td>0.8640</td>\n",
       "      <td>1.0</td>\n",
       "      <td>1.0</td>\n",
       "      <td>0.0</td>\n",
       "      <td>0.0</td>\n",
       "      <td>...</td>\n",
       "      <td>0.0</td>\n",
       "      <td>0.0</td>\n",
       "      <td>0.0</td>\n",
       "      <td>0.0</td>\n",
       "      <td>0.0</td>\n",
       "      <td>0.0</td>\n",
       "      <td>0.0</td>\n",
       "      <td>0.0</td>\n",
       "      <td>0.675374</td>\n",
       "      <td>0.024442</td>\n",
       "    </tr>\n",
       "    <tr>\n",
       "      <th>1999</th>\n",
       "      <td>0.013800</td>\n",
       "      <td>0.513</td>\n",
       "      <td>0.0336</td>\n",
       "      <td>0.403</td>\n",
       "      <td>0.6490</td>\n",
       "      <td>0.1720</td>\n",
       "      <td>0.0</td>\n",
       "      <td>1.0</td>\n",
       "      <td>0.0</td>\n",
       "      <td>0.0</td>\n",
       "      <td>...</td>\n",
       "      <td>0.0</td>\n",
       "      <td>0.0</td>\n",
       "      <td>0.0</td>\n",
       "      <td>0.0</td>\n",
       "      <td>0.0</td>\n",
       "      <td>0.0</td>\n",
       "      <td>0.0</td>\n",
       "      <td>0.0</td>\n",
       "      <td>0.596017</td>\n",
       "      <td>0.060836</td>\n",
       "    </tr>\n",
       "  </tbody>\n",
       "</table>\n",
       "<p>2000 rows × 21 columns</p>\n",
       "</div>"
      ],
      "text/plain": [
       "      Acousticness  Danceability  Speechiness  Energy  Liveness  Valence  \\\n",
       "0         0.164000         0.335       0.0386   0.625    0.0708   0.3460   \n",
       "1         0.643000         0.754       0.0363   0.424    0.0652   0.8060   \n",
       "2         0.614000         0.589       0.0502   0.472    0.5050   0.8980   \n",
       "3         0.579000         0.683       0.0303   0.375    0.0760   0.8880   \n",
       "4         0.920000         0.319       0.0341   0.210    0.1380   0.2090   \n",
       "...            ...           ...          ...     ...       ...      ...   \n",
       "1995      0.000086         0.322       0.1630   0.932    0.0969   0.3760   \n",
       "1996      0.740000         0.414       0.0359   0.590    0.3140   0.0831   \n",
       "1997      0.842000         0.347       0.0506   0.498    0.6920   0.3050   \n",
       "1998      0.353000         0.816       0.0533   0.471    0.1030   0.8640   \n",
       "1999      0.013800         0.513       0.0336   0.403    0.6490   0.1720   \n",
       "\n",
       "      Mode  key_0  key_1  key_2  ...  key_4  key_5  key_6  key_7  key_8  \\\n",
       "0      1.0    0.0    0.0    0.0  ...    0.0    0.0    0.0    1.0    0.0   \n",
       "1      1.0    0.0    0.0    1.0  ...    0.0    0.0    0.0    0.0    0.0   \n",
       "2      1.0    0.0    0.0    0.0  ...    0.0    0.0    0.0    0.0    1.0   \n",
       "3      1.0    1.0    0.0    0.0  ...    0.0    0.0    0.0    0.0    0.0   \n",
       "4      1.0    0.0    1.0    0.0  ...    0.0    0.0    0.0    0.0    0.0   \n",
       "...    ...    ...    ...    ...  ...    ...    ...    ...    ...    ...   \n",
       "1995   0.0    0.0    0.0    0.0  ...    1.0    0.0    0.0    0.0    0.0   \n",
       "1996   1.0    0.0    0.0    1.0  ...    0.0    0.0    0.0    0.0    0.0   \n",
       "1997   0.0    0.0    0.0    0.0  ...    1.0    0.0    0.0    0.0    0.0   \n",
       "1998   1.0    1.0    0.0    0.0  ...    0.0    0.0    0.0    0.0    0.0   \n",
       "1999   0.0    1.0    0.0    0.0  ...    0.0    0.0    0.0    0.0    0.0   \n",
       "\n",
       "      key_9  key_10  key_11     Tempo  Duration  \n",
       "0       0.0     0.0     0.0  0.725573  0.057663  \n",
       "1       0.0     0.0     0.0  0.577964  0.026764  \n",
       "2       0.0     0.0     0.0  0.324438  0.025444  \n",
       "3       0.0     0.0     0.0  0.678208  0.028044  \n",
       "4       0.0     0.0     0.0  0.379963  0.043930  \n",
       "...     ...     ...     ...       ...       ...  \n",
       "1995    0.0     0.0     0.0  0.666499  0.058519  \n",
       "1996    0.0     0.0     0.0  0.358245  0.054359  \n",
       "1997    0.0     0.0     0.0  0.701987  0.071014  \n",
       "1998    0.0     0.0     0.0  0.675374  0.024442  \n",
       "1999    0.0     0.0     0.0  0.596017  0.060836  \n",
       "\n",
       "[2000 rows x 21 columns]"
      ]
     },
     "execution_count": 11,
     "metadata": {},
     "output_type": "execute_result"
    }
   ],
   "source": [
    "scaler = MinMaxScaler()\n",
    "#scale Tempo and Duration, features not in range 0-1\n",
    "unscaled_features_df = pd.DataFrame(features[[\"Tempo\",\"Duration\"]])\n",
    "scaled_col = scaler.fit_transform(unscaled_features_df)\n",
    "scaled_features_df = pd.DataFrame(scaled_col, columns=[\"Tempo\",\"Duration\"])\n",
    "features = features.drop(columns=[\"Tempo\",\"Duration\"])\n",
    "features[\"Tempo\"] = scaled_features_df[\"Tempo\"]\n",
    "features[\"Duration\"] = scaled_features_df[\"Duration\"]\n",
    "features"
   ]
  },
  {
   "cell_type": "markdown",
   "metadata": {},
   "source": [
    "<h4><u>Feature Selection</u></h4>"
   ]
  },
  {
   "cell_type": "code",
   "execution_count": 12,
   "metadata": {},
   "outputs": [],
   "source": [
    "#selects the num_feat most important features using recursive feature elimination, returning the dataframe with chosen features\n",
    "def RFE_feature_selection(num_feat):\n",
    "    select = RFE(DecisionTreeRegressor(), n_features_to_select = num_feat)\n",
    "    select.fit(features, target)\n",
    "    features_selected = select.transform(features)\n",
    "    features_mask = select.get_support()\n",
    "    count = 0\n",
    "    print(\"Selected features after RFE:\")\n",
    "    for feature_index in features_mask:\n",
    "        if (feature_index):\n",
    "            print(\"\\t\" + features.columns[count])\n",
    "        count += 1\n",
    "    print(select.estimator_.feature_importances_)\n",
    "    return features_selected"
   ]
  },
  {
   "cell_type": "code",
   "execution_count": 13,
   "metadata": {},
   "outputs": [
    {
     "name": "stdout",
     "output_type": "stream",
     "text": [
      "Selected features after RFE:\n",
      "\tAcousticness\n",
      "\tDanceability\n",
      "\tSpeechiness\n",
      "\tLiveness\n",
      "\tValence\n",
      "\tTempo\n",
      "\tDuration\n",
      "[0.13983371 0.31518356 0.10916727 0.07855339 0.14977544 0.06931257\n",
      " 0.13817405]\n"
     ]
    }
   ],
   "source": [
    "#7 was number of features chosen based on best results of multiple models tested manually (code not shown due to end of the layout)\n",
    "features_selected = RFE_feature_selection(7)"
   ]
  },
  {
   "cell_type": "markdown",
   "metadata": {},
   "source": [
    "### 3.2. Data Exploration\n"
   ]
  },
  {
   "cell_type": "markdown",
   "metadata": {},
   "source": [
    "In this section, we plan to explore patterns in our data including relationships between attributes and distributions of individual attributes. We will then discuss any notable findings.\n",
    "\n",
    "<h4><u>Distribution Description</u></h4>\n",
    "\n",
    "We begin by describing the distributions of individual attributes using the .describe function built into the pandas library, the output of which is displayed below. \n",
    "\n",
    "By doing this, we can notice some interesting trends. For example:\n",
    "* The Popularity mean is approximately the median of the set, specifically 50\n",
    "* The minima and maxima of all the features encompass most of the range of the features (Usually 0.0 to 1.0)\n",
    "* This shows that at a glance, the dataset seems to contain a good distribution of values, but let us see how this observation fares after a closer look"
   ]
  },
  {
   "cell_type": "code",
   "execution_count": 14,
   "metadata": {},
   "outputs": [
    {
     "data": {
      "text/html": [
       "<div>\n",
       "<style scoped>\n",
       "    .dataframe tbody tr th:only-of-type {\n",
       "        vertical-align: middle;\n",
       "    }\n",
       "\n",
       "    .dataframe tbody tr th {\n",
       "        vertical-align: top;\n",
       "    }\n",
       "\n",
       "    .dataframe thead th {\n",
       "        text-align: right;\n",
       "    }\n",
       "</style>\n",
       "<table border=\"1\" class=\"dataframe\">\n",
       "  <thead>\n",
       "    <tr style=\"text-align: right;\">\n",
       "      <th></th>\n",
       "      <th>Acousticness</th>\n",
       "      <th>Danceability</th>\n",
       "      <th>Speechiness</th>\n",
       "      <th>Energy</th>\n",
       "      <th>Liveness</th>\n",
       "      <th>Valence</th>\n",
       "      <th>Key</th>\n",
       "      <th>Mode</th>\n",
       "      <th>Tempo</th>\n",
       "      <th>Duration</th>\n",
       "      <th>Popularity</th>\n",
       "    </tr>\n",
       "  </thead>\n",
       "  <tbody>\n",
       "    <tr>\n",
       "      <th>count</th>\n",
       "      <td>2000.000000</td>\n",
       "      <td>2000.000000</td>\n",
       "      <td>2000.000000</td>\n",
       "      <td>2000.000000</td>\n",
       "      <td>2000.000000</td>\n",
       "      <td>2000.000000</td>\n",
       "      <td>2000.000000</td>\n",
       "      <td>2000.000000</td>\n",
       "      <td>2000.000000</td>\n",
       "      <td>2.000000e+03</td>\n",
       "      <td>2000.000000</td>\n",
       "    </tr>\n",
       "    <tr>\n",
       "      <th>mean</th>\n",
       "      <td>0.366936</td>\n",
       "      <td>0.591080</td>\n",
       "      <td>0.100557</td>\n",
       "      <td>0.538043</td>\n",
       "      <td>0.212422</td>\n",
       "      <td>0.458325</td>\n",
       "      <td>5.218000</td>\n",
       "      <td>0.644000</td>\n",
       "      <td>118.381020</td>\n",
       "      <td>2.306474e+05</td>\n",
       "      <td>50.027000</td>\n",
       "    </tr>\n",
       "    <tr>\n",
       "      <th>std</th>\n",
       "      <td>0.356711</td>\n",
       "      <td>0.201649</td>\n",
       "      <td>0.104901</td>\n",
       "      <td>0.247962</td>\n",
       "      <td>0.208097</td>\n",
       "      <td>0.263760</td>\n",
       "      <td>3.599438</td>\n",
       "      <td>0.478935</td>\n",
       "      <td>29.822749</td>\n",
       "      <td>1.258135e+05</td>\n",
       "      <td>26.176915</td>\n",
       "    </tr>\n",
       "    <tr>\n",
       "      <th>min</th>\n",
       "      <td>0.000020</td>\n",
       "      <td>0.000000</td>\n",
       "      <td>0.000000</td>\n",
       "      <td>0.000020</td>\n",
       "      <td>0.020800</td>\n",
       "      <td>0.000000</td>\n",
       "      <td>0.000000</td>\n",
       "      <td>0.000000</td>\n",
       "      <td>0.000000</td>\n",
       "      <td>3.557300e+04</td>\n",
       "      <td>0.000000</td>\n",
       "    </tr>\n",
       "    <tr>\n",
       "      <th>25%</th>\n",
       "      <td>0.051300</td>\n",
       "      <td>0.438750</td>\n",
       "      <td>0.037500</td>\n",
       "      <td>0.380500</td>\n",
       "      <td>0.095350</td>\n",
       "      <td>0.244000</td>\n",
       "      <td>2.000000</td>\n",
       "      <td>0.000000</td>\n",
       "      <td>95.855500</td>\n",
       "      <td>1.805505e+05</td>\n",
       "      <td>26.000000</td>\n",
       "    </tr>\n",
       "    <tr>\n",
       "      <th>50%</th>\n",
       "      <td>0.218000</td>\n",
       "      <td>0.618500</td>\n",
       "      <td>0.051300</td>\n",
       "      <td>0.574000</td>\n",
       "      <td>0.128000</td>\n",
       "      <td>0.439000</td>\n",
       "      <td>5.000000</td>\n",
       "      <td>1.000000</td>\n",
       "      <td>118.026000</td>\n",
       "      <td>2.143115e+05</td>\n",
       "      <td>47.500000</td>\n",
       "    </tr>\n",
       "    <tr>\n",
       "      <th>75%</th>\n",
       "      <td>0.685000</td>\n",
       "      <td>0.746250</td>\n",
       "      <td>0.113000</td>\n",
       "      <td>0.726000</td>\n",
       "      <td>0.233000</td>\n",
       "      <td>0.668000</td>\n",
       "      <td>8.000000</td>\n",
       "      <td>1.000000</td>\n",
       "      <td>139.059500</td>\n",
       "      <td>2.531070e+05</td>\n",
       "      <td>76.000000</td>\n",
       "    </tr>\n",
       "    <tr>\n",
       "      <th>max</th>\n",
       "      <td>0.996000</td>\n",
       "      <td>0.964000</td>\n",
       "      <td>0.733000</td>\n",
       "      <td>0.997000</td>\n",
       "      <td>0.991000</td>\n",
       "      <td>0.976000</td>\n",
       "      <td>11.000000</td>\n",
       "      <td>1.000000</td>\n",
       "      <td>207.115000</td>\n",
       "      <td>3.600000e+06</td>\n",
       "      <td>97.000000</td>\n",
       "    </tr>\n",
       "  </tbody>\n",
       "</table>\n",
       "</div>"
      ],
      "text/plain": [
       "       Acousticness  Danceability  Speechiness       Energy     Liveness  \\\n",
       "count   2000.000000   2000.000000  2000.000000  2000.000000  2000.000000   \n",
       "mean       0.366936      0.591080     0.100557     0.538043     0.212422   \n",
       "std        0.356711      0.201649     0.104901     0.247962     0.208097   \n",
       "min        0.000020      0.000000     0.000000     0.000020     0.020800   \n",
       "25%        0.051300      0.438750     0.037500     0.380500     0.095350   \n",
       "50%        0.218000      0.618500     0.051300     0.574000     0.128000   \n",
       "75%        0.685000      0.746250     0.113000     0.726000     0.233000   \n",
       "max        0.996000      0.964000     0.733000     0.997000     0.991000   \n",
       "\n",
       "           Valence          Key         Mode        Tempo      Duration  \\\n",
       "count  2000.000000  2000.000000  2000.000000  2000.000000  2.000000e+03   \n",
       "mean      0.458325     5.218000     0.644000   118.381020  2.306474e+05   \n",
       "std       0.263760     3.599438     0.478935    29.822749  1.258135e+05   \n",
       "min       0.000000     0.000000     0.000000     0.000000  3.557300e+04   \n",
       "25%       0.244000     2.000000     0.000000    95.855500  1.805505e+05   \n",
       "50%       0.439000     5.000000     1.000000   118.026000  2.143115e+05   \n",
       "75%       0.668000     8.000000     1.000000   139.059500  2.531070e+05   \n",
       "max       0.976000    11.000000     1.000000   207.115000  3.600000e+06   \n",
       "\n",
       "        Popularity  \n",
       "count  2000.000000  \n",
       "mean     50.027000  \n",
       "std      26.176915  \n",
       "min       0.000000  \n",
       "25%      26.000000  \n",
       "50%      47.500000  \n",
       "75%      76.000000  \n",
       "max      97.000000  "
      ]
     },
     "execution_count": 14,
     "metadata": {},
     "output_type": "execute_result"
    }
   ],
   "source": [
    "# create a copy of the original dataframe to use for visualizations\n",
    "vis_df = samples.copy()\n",
    "vis_df\n",
    "# calculate some population level statistics for each of the features\n",
    "vis_df.describe()"
   ]
  },
  {
   "cell_type": "markdown",
   "metadata": {},
   "source": [
    "<h4><u>Heatmap with Correlation</u></h4>\n",
    "\n",
    "The chart below is a heatmap of correlations between attributes, where blue shows a negative correlation and red/orange shows a positive correlation. Some of the strongest correlations are:\n",
    "\n",
    "* A negative correlation between Acousticness and Energy (r = -0.76)\n",
    "* A negative correlation between Acousticness and Popularity (r = -0.43)\n",
    "* A positive correlation between Danceability and Popularity (r = 0.52)\n",
    "* A positive correlation between Danceability and Valence (r = 0.48)\n",
    "* A positive correlation between Energy and Valence (r = 0.47)"
   ]
  },
  {
   "cell_type": "code",
   "execution_count": 15,
   "metadata": {},
   "outputs": [
    {
     "data": {
      "text/plain": [
       "<matplotlib.axes._subplots.AxesSubplot at 0x154a5c90388>"
      ]
     },
     "execution_count": 15,
     "metadata": {},
     "output_type": "execute_result"
    },
    {
     "data": {
      "image/png": "[encoded data removed]",
      "text/plain": [
       "<Figure size 1080x864 with 2 Axes>"
      ]
     },
     "metadata": {
      "needs_background": "light"
     },
     "output_type": "display_data"
    }
   ],
   "source": [
    "# plot a correlation heatmap for our features.\n",
    "# visualize the relationship between features and target\n",
    "plt.figure(figsize = (15,12))\n",
    "sns.heatmap(vis_df.corr(), annot=True, center=0)"
   ]
  },
  {
   "cell_type": "markdown",
   "metadata": {},
   "source": [
    "<h4><u> Histogram Popularity Distribution </u></h4>\n",
    "\n",
    "The histogram below shows the distribution of Spotify popularity scores in our dataset. While the data is somewhat evenly distributed between 0 to 100, the histogram shows that the distribution could use some improvement (addressed in the Conclusion section). However, this was difficult to accomplish in a meaningfull amount of time due to the inability of the Spotify API to search based on popularity score. This distribution will function to simulate the actual distribution of scores on Spotify in a sense, since there are many more songs that have low/high score than average scores (Approx. 50). Thus, the two peaks make sense for the purposes of this project"
   ]
  },
  {
   "cell_type": "code",
   "execution_count": 16,
   "metadata": {},
   "outputs": [
    {
     "ename": "NameError",
     "evalue": "name 'px' is not defined",
     "output_type": "error",
     "traceback": [
      "\u001b[1;31m---------------------------------------------------------------------------\u001b[0m",
      "\u001b[1;31mNameError\u001b[0m                                 Traceback (most recent call last)",
      "\u001b[1;32m<ipython-input-16-ca13fe2e30a9>\u001b[0m in \u001b[0;36m<module>\u001b[1;34m\u001b[0m\n\u001b[1;32m----> 1\u001b[1;33m \u001b[0mfig\u001b[0m \u001b[1;33m=\u001b[0m \u001b[0mpx\u001b[0m\u001b[1;33m.\u001b[0m\u001b[0mhistogram\u001b[0m\u001b[1;33m(\u001b[0m\u001b[0msamples\u001b[0m\u001b[1;33m,\u001b[0m \u001b[0mx\u001b[0m \u001b[1;33m=\u001b[0m \u001b[1;34m\"Popularity\"\u001b[0m\u001b[1;33m,\u001b[0m \u001b[0mnbins\u001b[0m \u001b[1;33m=\u001b[0m \u001b[1;36m20\u001b[0m\u001b[1;33m)\u001b[0m\u001b[1;33m\u001b[0m\u001b[1;33m\u001b[0m\u001b[0m\n\u001b[0m\u001b[0;32m      2\u001b[0m \u001b[0mfig\u001b[0m\u001b[1;33m.\u001b[0m\u001b[0mshow\u001b[0m\u001b[1;33m(\u001b[0m\u001b[1;33m)\u001b[0m\u001b[1;33m\u001b[0m\u001b[1;33m\u001b[0m\u001b[0m\n",
      "\u001b[1;31mNameError\u001b[0m: name 'px' is not defined"
     ]
    }
   ],
   "source": [
    "fig = px.histogram(samples, x = \"Popularity\", nbins = 20)\n",
    "fig.show()"
   ]
  },
  {
   "cell_type": "markdown",
   "metadata": {},
   "source": [
    "<h4><u> Distribution Plots of Features Compared to Spotify Distribution</u></h4>\n",
    "\n",
    "The charts below aim to show the difference between the distribution of some feature values in our dataset to the overall distribution of those feature values in the Spotify database. This allows for one to visualize how representative of the population our sample truly is."
   ]
  },
  {
   "cell_type": "code",
   "execution_count": null,
   "metadata": {},
   "outputs": [],
   "source": [
    "fig = px.histogram(samples, x = \"Acousticness\", nbins = 20)\n",
    "fig.show()"
   ]
  },
  {
   "attachments": {
    "acousticness.png": {
     "image/png": "[encoded data removed]"
    }
   },
   "cell_type": "markdown",
   "metadata": {},
   "source": [
    "#### Spotify Database Acousticness Distribution\n",
    "![acousticness.png](attachment:acousticness.png)"
   ]
  },
  {
   "cell_type": "code",
   "execution_count": null,
   "metadata": {},
   "outputs": [],
   "source": [
    "fig = px.histogram(samples, x = \"Danceability\", nbins = 20)\n",
    "fig.show()"
   ]
  },
  {
   "attachments": {
    "danceability.png": {
     "image/png": "[encoded data removed]"
    }
   },
   "cell_type": "markdown",
   "metadata": {},
   "source": [
    "#### Spotify Database Danceability Distribution\n",
    "![danceability.png](attachment:danceability.png)"
   ]
  },
  {
   "cell_type": "code",
   "execution_count": null,
   "metadata": {},
   "outputs": [],
   "source": [
    "fig = px.histogram(samples, x = \"Energy\", nbins = 20)\n",
    "fig.show()"
   ]
  },
  {
   "attachments": {
    "energy.png": {
     "image/png": "[encoded data removed]"
    }
   },
   "cell_type": "markdown",
   "metadata": {},
   "source": [
    "#### Spotify Database Energy Distribution\n",
    "![energy.png](attachment:energy.png)"
   ]
  },
  {
   "cell_type": "code",
   "execution_count": null,
   "metadata": {},
   "outputs": [],
   "source": [
    "fig = px.histogram(samples, x = \"Liveness\", nbins = 20)\n",
    "fig.show()"
   ]
  },
  {
   "attachments": {
    "liveness.png": {
     "image/png": "[encoded data removed]"
    }
   },
   "cell_type": "markdown",
   "metadata": {},
   "source": [
    "#### Spotify Database Liveness Distribution\n",
    "![liveness.png](attachment:liveness.png)"
   ]
  },
  {
   "cell_type": "code",
   "execution_count": null,
   "metadata": {},
   "outputs": [],
   "source": [
    "fig = px.histogram(samples, x = \"Speechiness\", nbins = 20)\n",
    "fig.show()"
   ]
  },
  {
   "attachments": {
    "speechiness.png": {
     "image/png": "[encoded data removed]"
    }
   },
   "cell_type": "markdown",
   "metadata": {},
   "source": [
    "#### Spotify Database Speechiness Distribution\n",
    "![speechiness.png](attachment:speechiness.png)"
   ]
  },
  {
   "cell_type": "code",
   "execution_count": null,
   "metadata": {},
   "outputs": [],
   "source": [
    "fig = px.histogram(samples, x = \"Tempo\", nbins = 20)\n",
    "fig.show()"
   ]
  },
  {
   "attachments": {
    "tempo.png": {
     "image/png": "[encoded data removed]"
    }
   },
   "cell_type": "markdown",
   "metadata": {},
   "source": [
    "#### Spotify Database Tempo Distribution\n",
    "![tempo.png](attachment:tempo.png)"
   ]
  },
  {
   "cell_type": "code",
   "execution_count": null,
   "metadata": {},
   "outputs": [],
   "source": [
    "fig = px.histogram(samples, x = \"Valence\", nbins = 20)\n",
    "fig.show()"
   ]
  },
  {
   "attachments": {
    "valence.png": {
     "image/png": "[encoded data removed]"
    }
   },
   "cell_type": "markdown",
   "metadata": {},
   "source": [
    "#### Spotify Database Valence Distribution\n",
    "![valence.png](attachment:valence.png)"
   ]
  },
  {
   "cell_type": "markdown",
   "metadata": {},
   "source": [
    "![](url=https://developer.spotify.com/assets/audio/acousticness.png)"
   ]
  },
  {
   "cell_type": "markdown",
   "metadata": {},
   "source": [
    "### 3.3. Model Construction\n"
   ]
  },
  {
   "cell_type": "markdown",
   "metadata": {},
   "source": [
    "### Hypothesis Tests\n",
    "\n",
    "In order to test the first three hypotheses, we used scatterplots to visualize the correlation between the specific attribute and the Popularity score, and then proceeded to use a Pearson statistic to see if there was a meaningful correlation between the attributes. While a visualization was enough to see the correlation, numerical analysis was required to be thorough. Below one will find the results of the hypothesis tests\n",
    "\n",
    "<h4><u> (1) Higher danceability is associated with higher popularity tracks </u></h4>\n"
   ]
  },
  {
   "cell_type": "code",
   "execution_count": 19,
   "metadata": {},
   "outputs": [
    {
     "data": {
      "text/plain": [
       "<matplotlib.axes._subplots.AxesSubplot at 0x154a7c71fc8>"
      ]
     },
     "execution_count": 19,
     "metadata": {},
     "output_type": "execute_result"
    },
    {
     "data": {
      "image/png": "[encoded data removed]",
      "text/plain": [
       "<Figure size 432x288 with 1 Axes>"
      ]
     },
     "metadata": {
      "needs_background": "light"
     },
     "output_type": "display_data"
    }
   ],
   "source": [
    "sns.scatterplot(x = \"Danceability\", y = \"Popularity\", data = samples)"
   ]
  },
  {
   "cell_type": "code",
   "execution_count": 20,
   "metadata": {},
   "outputs": [
    {
     "data": {
      "text/plain": [
       "(0.5173656466804903, 2.404187875798397e-137)"
      ]
     },
     "execution_count": 20,
     "metadata": {},
     "output_type": "execute_result"
    }
   ],
   "source": [
    "stats.pearsonr(samples[\"Danceability\"], samples[\"Popularity\"])"
   ]
  },
  {
   "cell_type": "markdown",
   "metadata": {},
   "source": [
    "A high correlation value and pvalue < 0.05 was obtained indicating that the null hypothesis must be rejected. The null hypothesis stated that there was no correlation between Danceability and Popularity. However, the low Pearson statistic shows that there is a significant correlation between the two data sets, specfically that the correlation has a value of r = 0.51, which is a average positive correlation. Thus, it is shown that higher Danceability may coorelate to a higher Popularity score."
   ]
  },
  {
   "cell_type": "markdown",
   "metadata": {},
   "source": [
    "<h4><u> (2) Higher valence is associated with higher popularity tracks </u></h4>\n"
   ]
  },
  {
   "cell_type": "code",
   "execution_count": 21,
   "metadata": {},
   "outputs": [
    {
     "data": {
      "text/plain": [
       "<matplotlib.axes._subplots.AxesSubplot at 0x154a7cbfd48>"
      ]
     },
     "execution_count": 21,
     "metadata": {},
     "output_type": "execute_result"
    },
    {
     "data": {
      "image/png": "[encoded data removed]",
      "text/plain": [
       "<Figure size 432x288 with 1 Axes>"
      ]
     },
     "metadata": {
      "needs_background": "light"
     },
     "output_type": "display_data"
    }
   ],
   "source": [
    "sns.scatterplot(x = \"Valence\", y = \"Popularity\", data = samples)"
   ]
  },
  {
   "cell_type": "code",
   "execution_count": 22,
   "metadata": {},
   "outputs": [
    {
     "data": {
      "text/plain": [
       "(0.059090043678427136, 0.008211565183061677)"
      ]
     },
     "execution_count": 22,
     "metadata": {},
     "output_type": "execute_result"
    }
   ],
   "source": [
    "stats.pearsonr(samples[\"Valence\"], samples[\"Popularity\"])"
   ]
  },
  {
   "cell_type": "markdown",
   "metadata": {},
   "source": [
    "A low correlation value and pvalue < 0.05 was obtained. The low correlation value shows that there is a no correlation between the two data sets, specfically that the correlation has a value of r = 0.06, which signifies nearly no correlation. Thus, it is shown that higher Valence may not correlate to a higher Popularity score."
   ]
  },
  {
   "cell_type": "markdown",
   "metadata": {},
   "source": [
    "<h4><u> (3) Higher tempo is associated with higher popularity tracks </u></h4>\n"
   ]
  },
  {
   "cell_type": "code",
   "execution_count": 23,
   "metadata": {},
   "outputs": [
    {
     "data": {
      "text/plain": [
       "<matplotlib.axes._subplots.AxesSubplot at 0x154a7d17b48>"
      ]
     },
     "execution_count": 23,
     "metadata": {},
     "output_type": "execute_result"
    },
    {
     "data": {
      "image/png": "[encoded data removed]",
      "text/plain": [
       "<Figure size 432x288 with 1 Axes>"
      ]
     },
     "metadata": {
      "needs_background": "light"
     },
     "output_type": "display_data"
    }
   ],
   "source": [
    "sns.scatterplot(x = \"Tempo\", y = \"Popularity\", data = samples)"
   ]
  },
  {
   "cell_type": "code",
   "execution_count": 24,
   "metadata": {},
   "outputs": [
    {
     "data": {
      "text/plain": [
       "(0.10957555295655258, 9.010546027130098e-07)"
      ]
     },
     "execution_count": 24,
     "metadata": {},
     "output_type": "execute_result"
    }
   ],
   "source": [
    "stats.pearsonr(samples[\"Tempo\"], samples[\"Popularity\"])"
   ]
  },
  {
   "cell_type": "markdown",
   "metadata": {},
   "source": [
    "A low correlation value and pvalue < 0.05 was obtained. The low correlation value shows that there is a no correlation between the two data sets, specfically that the correlation has a value of r = 0.06, which signifies nearly no correlation. Thus, it is shown that higher Tempo may not correlate to a higher Popularity score."
   ]
  },
  {
   "cell_type": "markdown",
   "metadata": {},
   "source": [
    "### Splitting Data and Training Algorithms"
   ]
  },
  {
   "cell_type": "markdown",
   "metadata": {},
   "source": [
    "<h4><u>Training/Test Set Splitting</u></h4>"
   ]
  },
  {
   "cell_type": "code",
   "execution_count": 28,
   "metadata": {},
   "outputs": [],
   "source": [
    "def split_dataset(feature_set):\n",
    "    return train_test_split(feature_set, target)"
   ]
  },
  {
   "cell_type": "code",
   "execution_count": 35,
   "metadata": {},
   "outputs": [
    {
     "name": "stdout",
     "output_type": "stream",
     "text": [
      "Acousticness  Danceability  Speechiness  Energy  Liveness  Valence  \\\n",
      "38         0.12800         0.774       0.1280  0.6080    0.0895   0.5600   \n",
      "1684       0.89200         0.245       0.0351  0.4110    0.1040   0.4450   \n",
      "1715       0.00724         0.537       0.0318  0.7760    0.3690   0.8300   \n",
      "966        0.08190         0.525       0.0619  0.8090    0.0971   0.2100   \n",
      "901        0.27800         0.702       0.0276  0.6040    0.1380   0.4040   \n",
      "...            ...           ...          ...     ...       ...      ...   \n",
      "709        0.00835         0.645       0.0393  0.7130    0.1130   0.5660   \n",
      "456        0.21500         0.630       0.0363  0.8040    0.2530   0.4920   \n",
      "1897       0.17000         0.394       0.0346  0.5530    0.9730   0.2210   \n",
      "1779       0.99300         0.168       0.0457  0.0116    0.1300   0.0396   \n",
      "943        0.36300         0.630       0.2560  0.6710    0.1130   0.3330   \n",
      "\n",
      "      Mode  key_0  key_1  key_2  ...  key_4  key_5  key_6  key_7  key_8  \\\n",
      "38     1.0    0.0    0.0    0.0  ...    0.0    0.0    0.0    1.0    0.0   \n",
      "1684   1.0    1.0    0.0    0.0  ...    0.0    0.0    0.0    0.0    0.0   \n",
      "1715   1.0    0.0    0.0    0.0  ...    0.0    0.0    0.0    0.0    0.0   \n",
      "966    0.0    0.0    1.0    0.0  ...    0.0    0.0    0.0    0.0    0.0   \n",
      "901    0.0    0.0    0.0    0.0  ...    0.0    0.0    0.0    0.0    0.0   \n",
      "...    ...    ...    ...    ...  ...    ...    ...    ...    ...    ...   \n",
      "709    1.0    0.0    0.0    0.0  ...    0.0    0.0    1.0    0.0    0.0   \n",
      "456    1.0    0.0    0.0    0.0  ...    0.0    0.0    1.0    0.0    0.0   \n",
      "1897   1.0    0.0    0.0    0.0  ...    0.0    1.0    0.0    0.0    0.0   \n",
      "1779   0.0    0.0    1.0    0.0  ...    0.0    0.0    0.0    0.0    0.0   \n",
      "943    0.0    0.0    0.0    0.0  ...    0.0    0.0    1.0    0.0    0.0   \n",
      "\n",
      "      key_9  key_10  key_11     Tempo  Duration  \n",
      "38      0.0     0.0     0.0  0.663853  0.041226  \n",
      "1684    0.0     0.0     0.0  0.663771  0.058437  \n",
      "1715    1.0     0.0     0.0  0.570678  0.035405  \n",
      "966     0.0     0.0     0.0  0.613538  0.058729  \n",
      "901     0.0     0.0     1.0  0.627955  0.048547  \n",
      "...     ...     ...     ...       ...       ...  \n",
      "709     0.0     0.0     0.0  0.362065  0.050200  \n",
      "456     0.0     0.0     0.0  0.594578  0.051823  \n",
      "1897    0.0     0.0     0.0  0.602264  0.070175  \n",
      "1779    0.0     0.0     0.0  0.324602  0.068338  \n",
      "943     0.0     0.0     0.0  0.434160  0.038929  \n",
      "\n",
      "[1500 rows x 21 columns]\n"
     ]
    }
   ],
   "source": [
    "#split dataset with full set of features\n",
    "X_train, X_test, y_train, y_test = split_dataset(features)\n",
    "print(X_train)"
   ]
  },
  {
   "cell_type": "code",
   "execution_count": 30,
   "metadata": {},
   "outputs": [
    {
     "name": "stdout",
     "output_type": "stream",
     "text": [
      "[[0.63       0.473      0.0367     ... 0.142      0.628      0.05089626]\n",
      " [0.0309     0.908      0.216      ... 0.1        0.783      0.05336454]\n",
      " [0.7        0.401      0.0274     ... 0.122      0.229      0.06767624]\n",
      " ...\n",
      " [0.297      0.752      0.0705     ... 0.0936     0.533      0.04659599]\n",
      " [0.109      0.501      0.0409     ... 0.454      0.168      0.04492559]\n",
      " [0.263      0.677      0.0306     ... 0.105      0.521      0.04038068]]\n"
     ]
    }
   ],
   "source": [
    "#split dataset with selected features\n",
    "X_train_selected, X_test_selected, y_train_selected, y_test_selected = split_dataset(features_selected)\n",
    "print(X_train_selected)"
   ]
  },
  {
   "cell_type": "markdown",
   "metadata": {},
   "source": [
    "<h4><u>Models for Testing</u></h4>"
   ]
  },
  {
   "cell_type": "code",
   "execution_count": 31,
   "metadata": {},
   "outputs": [],
   "source": [
    "#dictionary of models to use\n",
    "base_estimators = {\"Linear Regression\" : LinearRegression(),\n",
    "              \"Ridge\" : Ridge(alpha = 1.0),\n",
    "              \"Lasso\" : Lasso(alpha = 1.0),\n",
    "              \"k-Nearest Neighbor\" : KNeighborsRegressor(n_neighbors = 5),\n",
    "              \"Decision Tree\" : DecisionTreeRegressor(),\n",
    "              \"Random Forest Tree\" :  RandomForestRegressor()}"
   ]
  },
  {
   "cell_type": "markdown",
   "metadata": {},
   "source": [
    "<h4><u>Baseline Performance</u></h4>"
   ]
  },
  {
   "cell_type": "code",
   "execution_count": 33,
   "metadata": {},
   "outputs": [],
   "source": [
    "#function to train and test on all models given a train/test split output and dictionary of models\n",
    "def regressors_percentage_split(X_train, X_test, y_train, y_test, estimators):\n",
    "    for estimator_name, model in estimators.items():\n",
    "        model.fit(X=X_train, y=y_train)\n",
    "        print(estimator_name + \":\")\n",
    "        print(\"\\tR-squared value for training set: \", r2_score(y_train, model.predict(X_train)))\n",
    "        print(\"\\tR-squared value for testing set: \", r2_score(y_test, model.predict(X_test)))"
   ]
  },
  {
   "cell_type": "code",
   "execution_count": 36,
   "metadata": {},
   "outputs": [
    {
     "name": "stdout",
     "output_type": "stream",
     "text": [
      "Linear Regression:\n",
      "\tR-squared value for training set:  0.3948758822321171\n",
      "\tR-squared value for testing set:  0.36551527288616015\n",
      "Ridge:\n",
      "\tR-squared value for training set:  0.3942446411184707\n",
      "\tR-squared value for testing set:  0.36230411543477026\n",
      "Lasso:\n",
      "\tR-squared value for training set:  0.2819097975417679\n",
      "\tR-squared value for testing set:  0.23299122744100997\n",
      "k-Nearest Neighbor:\n",
      "\tR-squared value for training set:  0.6392224383539582\n",
      "\tR-squared value for testing set:  0.37123260069812114\n",
      "Decision Tree:\n",
      "\tR-squared value for training set:  0.9999834857063173\n",
      "\tR-squared value for testing set:  0.38608541149324527\n",
      "Random Forest Tree:\n",
      "\tR-squared value for training set:  0.9595082624884816\n",
      "\tR-squared value for testing set:  0.691927131322318\n"
     ]
    }
   ],
   "source": [
    "#full dataset testing\n",
    "regressors_percentage_split(X_train, X_test, y_train, y_test, base_estimators)"
   ]
  },
  {
   "cell_type": "markdown",
   "metadata": {},
   "source": [
    "<h4><u>Feature Selected Performance</u></h4>"
   ]
  },
  {
   "cell_type": "code",
   "execution_count": 37,
   "metadata": {},
   "outputs": [
    {
     "name": "stdout",
     "output_type": "stream",
     "text": [
      "Linear Regression:\n",
      "\tR-squared value for training set:  0.3742615763251741\n",
      "\tR-squared value for testing set:  0.3936547397657839\n",
      "Ridge:\n",
      "\tR-squared value for training set:  0.37360674136285743\n",
      "\tR-squared value for testing set:  0.39097534678213464\n",
      "Lasso:\n",
      "\tR-squared value for training set:  0.2661620866068519\n",
      "\tR-squared value for testing set:  0.2631547883335623\n",
      "k-Nearest Neighbor:\n",
      "\tR-squared value for training set:  0.6859982420092956\n",
      "\tR-squared value for testing set:  0.4991711882670522\n",
      "Decision Tree:\n",
      "\tR-squared value for training set:  0.9996455393782048\n",
      "\tR-squared value for testing set:  0.5611803438569476\n",
      "Random Forest Tree:\n",
      "\tR-squared value for training set:  0.9597795212700843\n",
      "\tR-squared value for testing set:  0.6982012607011194\n"
     ]
    }
   ],
   "source": [
    "regressors_percentage_split(X_train_selected, X_test_selected, y_train_selected, y_test_selected, base_estimators)"
   ]
  },
  {
   "cell_type": "markdown",
   "metadata": {},
   "source": [
    "### 3.4. Model Evaluation\n",
    "* Evaluate the performance of your algorithms on appropriate evaluation metrics, using your validation set\n",
    "* Interpret your results from multiple models (and hypothesis tests, if any)\n",
    "\n",
    "From the raw data, Random Forest Tree regression performed the best with a R-squared value of 69.82%. The best performing models will be tuned in the following section"
   ]
  },
  {
   "cell_type": "markdown",
   "metadata": {},
   "source": [
    "### 3.5. Model Optimization\n",
    "* We chose to tune our parameters of the model to avoid overfitting to the data, and thus, this led to a better accuracy of the model as shown below. Furthermore, it was shown that the data was not distributed evenly as shown by the histogram of Spotify popularity. Thus, optimizing the data should reveal a higher prediction accuracy"
   ]
  },
  {
   "cell_type": "code",
   "execution_count": 38,
   "metadata": {},
   "outputs": [],
   "source": [
    "#kNN parameters\n",
    "knn_param_grid = {\"n_neighbors\":[1, 5, 10], \"metric\": [\"euclidean\", \"manhattan\", \"minkowski\"]}\n",
    "#decision tree parameters\n",
    "dt_param_grid = {\"max_depth\":[10, 100, 200], \"min_samples_split\": [2, 10, 100]}\n",
    "#random forest tree parameters\n",
    "rf_param_grid = {\"n_estimators\":[100, 250, 500], \"max_features\": [\"auto\", \"sqrt\"], \"min_samples_split\": [2, 5, 10],\"min_samples_leaf\": [1, 2, 4], \"bootstrap\": [True, False]}"
   ]
  },
  {
   "cell_type": "code",
   "execution_count": 39,
   "metadata": {},
   "outputs": [],
   "source": [
    "def grid_search(model, parameters):\n",
    "    grid_search = GridSearchCV(model, parameters, cv = 10)\n",
    "    grid_search.fit(X = X_train_selected, y = y_train_selected)\n",
    "    \n",
    "    print(\"Best parameters: \", grid_search.best_params_)\n",
    "    print(\"Training set score with best parameters: \", grid_search.score(X_train_selected, y_train_selected))\n",
    "    print(\"Test set score with best parameters: \", grid_search.score(X_test_selected, y_test_selected))"
   ]
  },
  {
   "cell_type": "markdown",
   "metadata": {},
   "source": [
    "<h4><u>Tuned k-NN Regressor</u></h4>"
   ]
  },
  {
   "cell_type": "code",
   "execution_count": 49,
   "metadata": {},
   "outputs": [
    {
     "name": "stdout",
     "output_type": "stream",
     "text": [
      "Best parameters:  {'metric': 'euclidean', 'n_neighbors': 1}\n",
      "Training set score with best parameters:  0.9993258744321271\n",
      "Test set score with best parameters:  0.4652312709127005\n"
     ]
    }
   ],
   "source": [
    "grid_search(KNeighborsRegressor(), knn_param_grid)"
   ]
  },
  {
   "cell_type": "markdown",
   "metadata": {},
   "source": [
    "<h4><u>Tuned Decision Tree Regressor</u></h4>"
   ]
  },
  {
   "cell_type": "code",
   "execution_count": 41,
   "metadata": {},
   "outputs": [
    {
     "name": "stdout",
     "output_type": "stream",
     "text": [
      "Best parameters:  {'max_depth': 10, 'min_samples_split': 100}\n",
      "Training set score with best parameters:  0.5895984525634581\n",
      "Test set score with best parameters:  0.4629273390087281\n"
     ]
    }
   ],
   "source": [
    "grid_search(DecisionTreeRegressor(), dt_param_grid)"
   ]
  },
  {
   "cell_type": "markdown",
   "metadata": {},
   "source": [
    "<h4><u>Tuned Random Forest Tree Regressor</u></h4>"
   ]
  },
  {
   "cell_type": "code",
   "execution_count": 42,
   "metadata": {},
   "outputs": [
    {
     "name": "stdout",
     "output_type": "stream",
     "text": [
      "Best parameters:  {'bootstrap': False, 'max_features': 'sqrt', 'min_samples_leaf': 1, 'min_samples_split': 2, 'n_estimators': 500}\n",
      "Training set score with best parameters:  0.9996455393782048\n",
      "Test set score with best parameters:  0.7424466028231298\n"
     ]
    }
   ],
   "source": [
    "grid_search(RandomForestRegressor(), rf_param_grid)"
   ]
  },
  {
   "cell_type": "markdown",
   "metadata": {},
   "source": [
    "### 3.6. Model Testing"
   ]
  },
  {
   "cell_type": "code",
   "execution_count": 52,
   "metadata": {},
   "outputs": [],
   "source": [
    "best_estimators = {\"k-Nearest Neighbor\" : KNeighborsRegressor(metric=\"euclidean\", n_neighbors=1),\n",
    "                   \"Decision Tree\" : DecisionTreeRegressor(max_depth=10, min_samples_split=10),\n",
    "                   \"Random Forest Tree\" :  RandomForestRegressor(bootstrap=False, max_features='sqrt', min_samples_leaf=1, min_samples_split=2, n_estimators=500)}"
   ]
  },
  {
   "cell_type": "code",
   "execution_count": 53,
   "metadata": {},
   "outputs": [
    {
     "name": "stdout",
     "output_type": "stream",
     "text": [
      "k-Nearest Neighbor:\n",
      "\tR-squared value for training set:  0.9993258744321271\n",
      "\tR-squared value for testing set:  0.46523127091270045\n",
      "Decision Tree:\n",
      "\tR-squared value for training set:  0.8244970864375908\n",
      "\tR-squared value for testing set:  0.5191112933353473\n",
      "Random Forest Tree:\n",
      "\tR-squared value for training set:  0.9996455393782048\n",
      "\tR-squared value for testing set:  0.7494750528983316\n"
     ]
    }
   ],
   "source": [
    "regressors_percentage_split(X_train_selected, X_test_selected, y_train_selected, y_test_selected, best_estimators)"
   ]
  },
  {
   "cell_type": "markdown",
   "metadata": {},
   "source": [
    "<a id=\"4\"></a>\n",
    "<hr style=\"height:2px; border:none; color:black; background-color:black;\">"
   ]
  },
  {
   "cell_type": "markdown",
   "metadata": {},
   "source": [
    "## 4. DISCUSSION\n",
    "\n",
    "\n",
    "<h4><u>Summary</u></h4>\n",
    "In order to analyze the data, we first split the dataset into its target and features components. The features and target were split into training and testing variables, and the following algorithm's performance on these variables were compared:\n",
    "\n",
    "* Linear\n",
    "* Ridge\n",
    "* Lasso\n",
    "* k-Nearest Neighbor\n",
    "* Decision Tree\n",
    "* Random Forest Tree\n",
    "\n",
    "In our testing of our algorithms, we found that Random Forest Tree Regression was the most accurate, before and after feature selection and tuning. Specifically, the best parameters for Random Forest Tree that were selected were the following:\n",
    "\n",
    "* Bootstrap - False\n",
    "* Max Features - Sqrt\n",
    "* Min Samples Leaf - 1\n",
    "* Min Samples Split - 2\n",
    "* n Estimators - 500\n",
    "\n",
    "This resulted in a R-sqaured value of 0.749 on the test set with the best parameters, and when compared to other models, it was concluded that Random Forest Tree Regression was the most accurate and the algorithm to be selected for the predictive model.\n",
    "\n",
    "<h4><u>Hypothesis Testing</u></h4>\n",
    "In the hypothesis testing, 2 of the 4 hypotheses were passed.\n",
    "\n",
    "For the first hypothesis, due to the high positive correlation (and the pvalue < 0.05) between that Danceability and Spotify popularity, it was concluded that higher danceability led to higher popularity. Additionally, this feature was selected to be the most important in determining our Spotify popularity score in the feature selection section of our Results. Thus, the first hypothesis was passed.\n",
    "\n",
    "For the second hypothesis, due to the low correlation (and the pvalue < 0.05) between the Valence and the Spotify popularity, it was concluded that higher tempo does not necessarily lead to a higher Spotify popularity. This is most likely due to the presence of \"sad\" and \"happy\" songs on the high popularity charts. In a more practical sense, audiences find other features more important than the tone of the song, and so, the second hypothesis failed to pass.\n",
    "\n",
    "For the third hypothesis, due to the low correlation (and the pvalue < 0.05) between the Tempo and the Spotify popularity, it was concluded that higher tempo does not necessarily lead to a higher Spotify popularity. Additionally, this feature was not selected to be the most important in determining our score in the feature selection section of our Results. Instead, duration took its place as one of the three most important features. This is most likely due to the fact that popular songs can range from slow tracks to fast tracks, without significant impact on the audience reception/retention.\n",
    "\n",
    "For the fourth hypothesis, through our testing of the various models, it was concluded that Decision Trees would in fact lead to the best accuracy given our data set. Specifically, a tuned and feature-selected Random Forest Tree regression algorithm led to the best accuracy. This is most likely due to the fact that this algorithm is a more robust/complex version of the simple Decision Tree algorithm. Furthermore, decision tree type algorithms are more effective with linear features, which our data set contained a multitude of.\n",
    "\n",
    "<h4><u>Future Work</u></h4>\n",
    "In the future, an extension of this research may be to see the viability of using a neural network on the dataset. Neural networks generally improve performance beyond standard machine learning models, and it would be valuable to see how more complex representations would work with our dataset. Furthermore, a more varied and distributed dataset would be an important extension to the project. As of now, our dataset likely does not contain a normally distributed amount of Spotify popularity scores, due to the fact that random selection was used. For the purposes of this project however, having the data skewed towards the extremes of popularity scores was representative of actual songs due to the fact that we selected songs from the Billboard charts and then randomly selected the rest, resulting in the absence of the middle popularity scores. Having a better distribution in our dataset would be helpful for the models to gain better accuracy."
   ]
  },
  {
   "cell_type": "markdown",
   "metadata": {},
   "source": [
    "<a id=\"5\"></a>\n",
    "<hr style=\"height:2px; border:none; color:black; background-color:black;\">"
   ]
  }
 ],
 "metadata": {
  "kernelspec": {
   "display_name": "Python 3",
   "language": "python",
   "name": "python3"
  },
  "language_info": {
   "codemirror_mode": {
    "name": "ipython",
    "version": 3
   },
   "file_extension": ".py",
   "mimetype": "text/x-python",
   "name": "python",
   "nbconvert_exporter": "python",
   "pygments_lexer": "ipython3",
   "version": "3.7.6"
  }
 },
 "nbformat": 4,
 "nbformat_minor": 2
}
