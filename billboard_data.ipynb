{
 "cells": [
  {
   "cell_type": "code",
   "execution_count": 5,
   "metadata": {
    "colab": {
     "base_uri": "https://localhost:8080/",
     "height": 193
    },
    "colab_type": "code",
    "id": "M-YKZFn1Llx6",
    "outputId": "08bde664-bd79-4344-865a-4a58f3781a79"
   },
   "outputs": [
    {
     "name": "stdout",
     "output_type": "stream",
     "text": [
      "Requirement already satisfied: billboard.py in c:\\users\\pavan\\anaconda3\\lib\\site-packages (6.0.3)\n",
      "Requirement already satisfied: beautifulsoup4>=4.4.1 in c:\\users\\pavan\\anaconda3\\lib\\site-packages (from billboard.py) (4.8.0)\n",
      "Requirement already satisfied: requests>=2.2.1 in c:\\users\\pavan\\anaconda3 (from billboard.py) (2.23.0)\n",
      "Requirement already satisfied: soupsieve>=1.2 in c:\\users\\pavan\\anaconda3\\lib\\site-packages (from beautifulsoup4>=4.4.1->billboard.py) (1.9.3)\n",
      "Requirement already satisfied: urllib3!=1.25.0,!=1.25.1,<1.26,>=1.21.1 in c:\\users\\pavan\\anaconda3 (from requests>=2.2.1->billboard.py) (1.25.8)\n",
      "Requirement already satisfied: idna<3,>=2.5 in c:\\users\\pavan\\anaconda3 (from requests>=2.2.1->billboard.py) (2.9)\n",
      "Requirement already satisfied: chardet<4,>=3.0.2 in c:\\users\\pavan\\anaconda3 (from requests>=2.2.1->billboard.py) (3.0.4)\n",
      "Requirement already satisfied: certifi>=2017.4.17 in c:\\users\\pavan\\anaconda3 (from requests>=2.2.1->billboard.py) (2019.11.28)\n"
     ]
    }
   ],
   "source": [
    "!pip install billboard.py\n",
    "import billboard\n",
    "import pandas as pd"
   ]
  },
  {
   "cell_type": "code",
   "execution_count": 6,
   "metadata": {
    "colab": {},
    "colab_type": "code",
    "id": "fdYQRnaOLuM1"
   },
   "outputs": [],
   "source": [
    "#create a list of dates given number of years. Will return dates in January, April, August, December\n",
    "#Format: YYYY-MM-DD\n",
    "def create_date_list(curr_year, num_years):\n",
    "    #make sure charts exist\n",
    "    start_year = curr_year - 1\n",
    "    end_year = start_year - num_years \n",
    "    months = [\"01-01\", \"04-01\", \"08-01\",\"12-01\"]\n",
    "    total_dates = []\n",
    "    #moving backwards through years\n",
    "    for i in range(start_year, end_year, -1):\n",
    "        for month in months:\n",
    "            total_dates.append(str(i)+ \"-\" + month)\n",
    "    return total_dates\n",
    "\n",
    "def split_entry(entry):\n",
    "    arr = entry.split(\"by\")\n",
    "    return [arr[0].strip().strip('\\''), arr[1].strip()]\n",
    "\n",
    "\n",
    "#parse a chart to enter into a dataframe\n",
    "def parse_chart(chart):\n",
    "    chart_dict = {}\n",
    "    for index in range(len(chart)):\n",
    "        curr_song = split_entry(str(chart[index]))\n",
    "        song_dict = {}\n",
    "        song_dict[\"Title\"] = curr_song[0]\n",
    "        song_dict[\"Artist\"] = curr_song[1]\n",
    "        chart_dict[index]= song_dict\n",
    "    return chart_dict\n",
    "    \n",
    "#will return a dataframe containing all song's title and artist from the start year and backwards num_years at 4 times\n",
    "#througout the year\n",
    "def chart_main(chart_name, start_year, num_years):\n",
    "    #initialize complete DataFrame\n",
    "    data = pd.DataFrame(columns = [\"Title\", \"Artist\"])\n",
    "    #get list of dates to get charts from\n",
    "    dates_list = create_date_list(start_year, num_years)\n",
    "    #get all charts at dates in date_list and parse into dataframe\n",
    "    for date in dates_list:\n",
    "        try:\n",
    "          chart = billboard.ChartData(chart_name, date)\n",
    "        except:\n",
    "          continue\n",
    "        entry = parse_chart(chart)\n",
    "        for i in range(len(entry)):\n",
    "            data = data.append(entry[i], ignore_index=True)\n",
    "    return data"
   ]
  },
  {
   "cell_type": "code",
   "execution_count": 7,
   "metadata": {
    "colab": {},
    "colab_type": "code",
    "id": "ESsRbErxL0Oa"
   },
   "outputs": [],
   "source": [
    "dataframe = chart_main(\"streaming-songs\", 2020, 5)\n",
    "dataframe.to_csv(\"positive_samples_names.csv\")"
   ]
  },
  {
   "cell_type": "code",
   "execution_count": 4,
   "metadata": {},
   "outputs": [
    {
     "data": {
      "text/html": [
       "<div>\n",
       "<style scoped>\n",
       "    .dataframe tbody tr th:only-of-type {\n",
       "        vertical-align: middle;\n",
       "    }\n",
       "\n",
       "    .dataframe tbody tr th {\n",
       "        vertical-align: top;\n",
       "    }\n",
       "\n",
       "    .dataframe thead th {\n",
       "        text-align: right;\n",
       "    }\n",
       "</style>\n",
       "<table border=\"1\" class=\"dataframe\">\n",
       "  <thead>\n",
       "    <tr style=\"text-align: right;\">\n",
       "      <th></th>\n",
       "      <th>Title</th>\n",
       "      <th>Artist</th>\n",
       "    </tr>\n",
       "  </thead>\n",
       "  <tbody>\n",
       "    <tr>\n",
       "      <td>0</td>\n",
       "      <td>All I Want For Christmas Is You</td>\n",
       "      <td>Mariah Carey</td>\n",
       "    </tr>\n",
       "    <tr>\n",
       "      <td>1</td>\n",
       "      <td>Jingle Bell Rock</td>\n",
       "      <td>Bob</td>\n",
       "    </tr>\n",
       "    <tr>\n",
       "      <td>2</td>\n",
       "      <td>Rockin' Around The Christmas Tree</td>\n",
       "      <td>Brenda Lee</td>\n",
       "    </tr>\n",
       "    <tr>\n",
       "      <td>3</td>\n",
       "      <td>A Holly Jolly Christmas</td>\n",
       "      <td>Burl Ives</td>\n",
       "    </tr>\n",
       "    <tr>\n",
       "      <td>4</td>\n",
       "      <td>The Christmas Song (Merry Christmas To You)</td>\n",
       "      <td>Nat King Cole</td>\n",
       "    </tr>\n",
       "    <tr>\n",
       "      <td>...</td>\n",
       "      <td>...</td>\n",
       "      <td>...</td>\n",
       "    </tr>\n",
       "    <tr>\n",
       "      <td>895</td>\n",
       "      <td>Children</td>\n",
       "      <td>Justin Bieber</td>\n",
       "    </tr>\n",
       "    <tr>\n",
       "      <td>896</td>\n",
       "      <td>Thinking Out Loud</td>\n",
       "      <td>Ed Sheeran</td>\n",
       "    </tr>\n",
       "    <tr>\n",
       "      <td>897</td>\n",
       "      <td>Say It</td>\n",
       "      <td>Tory Lanez</td>\n",
       "    </tr>\n",
       "    <tr>\n",
       "      <td>898</td>\n",
       "      <td>Ex's &amp; Oh's</td>\n",
       "      <td>Elle King</td>\n",
       "    </tr>\n",
       "    <tr>\n",
       "      <td>899</td>\n",
       "      <td>Confident</td>\n",
       "      <td>Demi Lovato</td>\n",
       "    </tr>\n",
       "  </tbody>\n",
       "</table>\n",
       "<p>900 rows × 2 columns</p>\n",
       "</div>"
      ],
      "text/plain": [
       "                                           Title         Artist\n",
       "0                All I Want For Christmas Is You   Mariah Carey\n",
       "1                               Jingle Bell Rock            Bob\n",
       "2              Rockin' Around The Christmas Tree     Brenda Lee\n",
       "3                        A Holly Jolly Christmas      Burl Ives\n",
       "4    The Christmas Song (Merry Christmas To You)  Nat King Cole\n",
       "..                                           ...            ...\n",
       "895                                     Children  Justin Bieber\n",
       "896                            Thinking Out Loud     Ed Sheeran\n",
       "897                                       Say It     Tory Lanez\n",
       "898                                  Ex's & Oh's      Elle King\n",
       "899                                    Confident    Demi Lovato\n",
       "\n",
       "[900 rows x 2 columns]"
      ]
     },
     "execution_count": 4,
     "metadata": {},
     "output_type": "execute_result"
    }
   ],
   "source": [
    "dataframe"
   ]
  }
 ],
 "metadata": {
  "colab": {
   "name": "Billboard-data.ipynb",
   "provenance": []
  },
  "kernelspec": {
   "display_name": "Python 3",
   "language": "python",
   "name": "python3"
  },
  "language_info": {
   "codemirror_mode": {
    "name": "ipython",
    "version": 3
   },
   "file_extension": ".py",
   "mimetype": "text/x-python",
   "name": "python",
   "nbconvert_exporter": "python",
   "pygments_lexer": "ipython3",
   "version": "3.7.4"
  }
 },
 "nbformat": 4,
 "nbformat_minor": 1
}
